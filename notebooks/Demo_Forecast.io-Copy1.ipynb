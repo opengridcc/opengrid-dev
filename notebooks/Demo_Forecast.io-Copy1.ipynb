{
 "cells": [
  {
   "cell_type": "markdown",
   "metadata": {},
   "source": [
    "# Demo of the forecast.io wrapper to get past and future weather data\n",
    "\n",
    "Important: you need to register for an apikey here: https://developer.forecast.io/  Put the key you obtain in the opengrid.cfg file as follows:\n",
    "\n",
    "    [Forecast.io]\n",
    "    apikey: your_key"
   ]
  },
  {
   "cell_type": "code",
   "execution_count": 1,
   "metadata": {
    "collapsed": false
   },
   "outputs": [
    {
     "name": "stdout",
     "output_type": "stream",
     "text": [
      "Server running in the folder /mnt/data/work/opengrid/code/opengrid/scripts at 127.0.0.1:40996\n"
     ]
    }
   ],
   "source": [
    "import os, sys, inspect\n",
    "import pandas as pd\n",
    "import charts"
   ]
  },
  {
   "cell_type": "code",
   "execution_count": 2,
   "metadata": {
    "collapsed": false
   },
   "outputs": [],
   "source": [
    "# add the sccript path to opengrid to sys.path\n",
    "script_dir = os.path.dirname(os.path.abspath(inspect.getfile(inspect.currentframe())))\n",
    "sys.path.append(os.path.join(script_dir, os.pardir, os.pardir))\n",
    "\n",
    "from opengrid.library.config import Config"
   ]
  },
  {
   "cell_type": "markdown",
   "metadata": {},
   "source": [
    "## Get Forecast.io API key from config file"
   ]
  },
  {
   "cell_type": "code",
   "execution_count": 3,
   "metadata": {
    "collapsed": false
   },
   "outputs": [],
   "source": [
    "config = Config()\n",
    "\n",
    "#get Forecast.io API Key\n",
    "api_key = config.get('Forecast.io', 'apikey')"
   ]
  },
  {
   "cell_type": "markdown",
   "metadata": {},
   "source": [
    "## Import API wrapper module"
   ]
  },
  {
   "cell_type": "code",
   "execution_count": 4,
   "metadata": {
    "collapsed": false
   },
   "outputs": [],
   "source": [
    "from opengrid.library import forecastwrapper"
   ]
  },
  {
   "cell_type": "markdown",
   "metadata": {},
   "source": [
    "# Get weather data in daily resolution"
   ]
  },
  {
   "cell_type": "markdown",
   "metadata": {},
   "source": [
    "Daily resolution has the option of adding degree days.\n",
    "By default, heating degree days with a base temperature of 16.5°C are added.\n",
    "\n",
    "Heating degree days are calculated as follows:\n",
    "\n",
    "$$heatingDegreeDays = max(0 , baseTemp - 0.6 * T_{today} + 0.3 * T_{today-1} + 0.1 * T_{today-2} )$$\n",
    "\n",
    "Cooling degree days are calculated in an analog way:\n",
    "\n",
    "$$coolingDegreeDays = max(0, 0.6 * T_{today} + 0.3 * T_{today-1} + 0.1 * T_{today-2} - baseTemp )$$\n",
    "\n",
    "Add degree days by setting the flag heatingDegreeDays or coolingDegreeDays and supplying heatingBaseTemps and/or coolingBaseTemps as a list (you can add multiple base temperatures, or just a list of 1 element)"
   ]
  },
  {
   "cell_type": "code",
   "execution_count": 5,
   "metadata": {
    "collapsed": false
   },
   "outputs": [],
   "source": [
    "start = pd.Timestamp('20150813')\n",
    "end = pd.Timestamp('20150816')"
   ]
  },
  {
   "cell_type": "code",
   "execution_count": 6,
   "metadata": {
    "collapsed": true
   },
   "outputs": [],
   "source": [
    "WD = forecastwrapper.Weather_Days(api_key=api_key, location='Ukkel', start=start, end=end)"
   ]
  },
  {
   "cell_type": "code",
   "execution_count": 7,
   "metadata": {
    "collapsed": false
   },
   "outputs": [
    {
     "data": {
      "text/html": [
       "<div>\n",
       "<table border=\"1\" class=\"dataframe\">\n",
       "  <thead>\n",
       "    <tr style=\"text-align: right;\">\n",
       "      <th></th>\n",
       "      <th>apparentTemperatureMax</th>\n",
       "      <th>apparentTemperatureMaxTime</th>\n",
       "      <th>apparentTemperatureMin</th>\n",
       "      <th>apparentTemperatureMinTime</th>\n",
       "      <th>cloudCover</th>\n",
       "      <th>dewPoint</th>\n",
       "      <th>humidity</th>\n",
       "      <th>icon</th>\n",
       "      <th>moonPhase</th>\n",
       "      <th>precipType</th>\n",
       "      <th>...</th>\n",
       "      <th>sunsetTime</th>\n",
       "      <th>temperature</th>\n",
       "      <th>temperatureMax</th>\n",
       "      <th>temperatureMaxTime</th>\n",
       "      <th>temperatureMin</th>\n",
       "      <th>temperatureMinTime</th>\n",
       "      <th>visibility</th>\n",
       "      <th>windBearing</th>\n",
       "      <th>windSpeed</th>\n",
       "      <th>heatingDegreeDays16.5</th>\n",
       "    </tr>\n",
       "    <tr>\n",
       "      <th>time</th>\n",
       "      <th></th>\n",
       "      <th></th>\n",
       "      <th></th>\n",
       "      <th></th>\n",
       "      <th></th>\n",
       "      <th></th>\n",
       "      <th></th>\n",
       "      <th></th>\n",
       "      <th></th>\n",
       "      <th></th>\n",
       "      <th></th>\n",
       "      <th></th>\n",
       "      <th></th>\n",
       "      <th></th>\n",
       "      <th></th>\n",
       "      <th></th>\n",
       "      <th></th>\n",
       "      <th></th>\n",
       "      <th></th>\n",
       "      <th></th>\n",
       "      <th></th>\n",
       "    </tr>\n",
       "  </thead>\n",
       "  <tbody>\n",
       "    <tr>\n",
       "      <th>2015-08-13 00:00:00+02:00</th>\n",
       "      <td>32.99</td>\n",
       "      <td>1439478000</td>\n",
       "      <td>17.22</td>\n",
       "      <td>1439442000</td>\n",
       "      <td>0.51</td>\n",
       "      <td>18.07</td>\n",
       "      <td>0.8</td>\n",
       "      <td>fog</td>\n",
       "      <td>0.96</td>\n",
       "      <td>rain</td>\n",
       "      <td>...</td>\n",
       "      <td>1439493008</td>\n",
       "      <td>22.2</td>\n",
       "      <td>31.43</td>\n",
       "      <td>1439478000</td>\n",
       "      <td>17.22</td>\n",
       "      <td>1439442000</td>\n",
       "      <td>7.31</td>\n",
       "      <td>64</td>\n",
       "      <td>3.33</td>\n",
       "      <td>0</td>\n",
       "    </tr>\n",
       "    <tr>\n",
       "      <th>2015-08-14 00:00:00+02:00</th>\n",
       "      <td>23.74</td>\n",
       "      <td>1439571600</td>\n",
       "      <td>19.01</td>\n",
       "      <td>1439528400</td>\n",
       "      <td>0.69</td>\n",
       "      <td>17.72</td>\n",
       "      <td>0.82</td>\n",
       "      <td>partly-cloudy-day</td>\n",
       "      <td>0.99</td>\n",
       "      <td>rain</td>\n",
       "      <td>...</td>\n",
       "      <td>1439579295</td>\n",
       "      <td>21.12</td>\n",
       "      <td>23.74</td>\n",
       "      <td>1439571600</td>\n",
       "      <td>19.01</td>\n",
       "      <td>1439528400</td>\n",
       "      <td>10.8</td>\n",
       "      <td>179</td>\n",
       "      <td>2.47</td>\n",
       "      <td>0</td>\n",
       "    </tr>\n",
       "    <tr>\n",
       "      <th>2015-08-15 00:00:00+02:00</th>\n",
       "      <td>19.58</td>\n",
       "      <td>1439589600</td>\n",
       "      <td>15.15</td>\n",
       "      <td>1439672400</td>\n",
       "      <td>0.81</td>\n",
       "      <td>15.15</td>\n",
       "      <td>0.89</td>\n",
       "      <td>partly-cloudy-day</td>\n",
       "      <td>0.03</td>\n",
       "      <td>rain</td>\n",
       "      <td>...</td>\n",
       "      <td>1439665582</td>\n",
       "      <td>17.02</td>\n",
       "      <td>19.58</td>\n",
       "      <td>1439589600</td>\n",
       "      <td>15.15</td>\n",
       "      <td>1439672400</td>\n",
       "      <td>9.56</td>\n",
       "      <td>306</td>\n",
       "      <td>1.43</td>\n",
       "      <td>0</td>\n",
       "    </tr>\n",
       "    <tr>\n",
       "      <th>2015-08-16 00:00:00+02:00</th>\n",
       "      <td>20</td>\n",
       "      <td>1439730000</td>\n",
       "      <td>13.44</td>\n",
       "      <td>1439704800</td>\n",
       "      <td>0.79</td>\n",
       "      <td>11.73</td>\n",
       "      <td>0.75</td>\n",
       "      <td>partly-cloudy-day</td>\n",
       "      <td>0.06</td>\n",
       "      <td>rain</td>\n",
       "      <td>...</td>\n",
       "      <td>1439751866</td>\n",
       "      <td>16.53</td>\n",
       "      <td>20</td>\n",
       "      <td>1439730000</td>\n",
       "      <td>13.44</td>\n",
       "      <td>1439704800</td>\n",
       "      <td>10.75</td>\n",
       "      <td>356</td>\n",
       "      <td>2.69</td>\n",
       "      <td>0</td>\n",
       "    </tr>\n",
       "  </tbody>\n",
       "</table>\n",
       "<p>4 rows × 23 columns</p>\n",
       "</div>"
      ],
      "text/plain": [
       "                          apparentTemperatureMax apparentTemperatureMaxTime  \\\n",
       "time                                                                          \n",
       "2015-08-13 00:00:00+02:00                  32.99                 1439478000   \n",
       "2015-08-14 00:00:00+02:00                  23.74                 1439571600   \n",
       "2015-08-15 00:00:00+02:00                  19.58                 1439589600   \n",
       "2015-08-16 00:00:00+02:00                     20                 1439730000   \n",
       "\n",
       "                          apparentTemperatureMin apparentTemperatureMinTime  \\\n",
       "time                                                                          \n",
       "2015-08-13 00:00:00+02:00                  17.22                 1439442000   \n",
       "2015-08-14 00:00:00+02:00                  19.01                 1439528400   \n",
       "2015-08-15 00:00:00+02:00                  15.15                 1439672400   \n",
       "2015-08-16 00:00:00+02:00                  13.44                 1439704800   \n",
       "\n",
       "                          cloudCover dewPoint humidity               icon  \\\n",
       "time                                                                        \n",
       "2015-08-13 00:00:00+02:00       0.51    18.07      0.8                fog   \n",
       "2015-08-14 00:00:00+02:00       0.69    17.72     0.82  partly-cloudy-day   \n",
       "2015-08-15 00:00:00+02:00       0.81    15.15     0.89  partly-cloudy-day   \n",
       "2015-08-16 00:00:00+02:00       0.79    11.73     0.75  partly-cloudy-day   \n",
       "\n",
       "                          moonPhase precipType          ...           \\\n",
       "time                                                    ...            \n",
       "2015-08-13 00:00:00+02:00      0.96       rain          ...            \n",
       "2015-08-14 00:00:00+02:00      0.99       rain          ...            \n",
       "2015-08-15 00:00:00+02:00      0.03       rain          ...            \n",
       "2015-08-16 00:00:00+02:00      0.06       rain          ...            \n",
       "\n",
       "                           sunsetTime temperature temperatureMax  \\\n",
       "time                                                               \n",
       "2015-08-13 00:00:00+02:00  1439493008        22.2          31.43   \n",
       "2015-08-14 00:00:00+02:00  1439579295       21.12          23.74   \n",
       "2015-08-15 00:00:00+02:00  1439665582       17.02          19.58   \n",
       "2015-08-16 00:00:00+02:00  1439751866       16.53             20   \n",
       "\n",
       "                          temperatureMaxTime temperatureMin  \\\n",
       "time                                                          \n",
       "2015-08-13 00:00:00+02:00         1439478000          17.22   \n",
       "2015-08-14 00:00:00+02:00         1439571600          19.01   \n",
       "2015-08-15 00:00:00+02:00         1439589600          15.15   \n",
       "2015-08-16 00:00:00+02:00         1439730000          13.44   \n",
       "\n",
       "                          temperatureMinTime visibility windBearing windSpeed  \\\n",
       "time                                                                            \n",
       "2015-08-13 00:00:00+02:00         1439442000       7.31          64      3.33   \n",
       "2015-08-14 00:00:00+02:00         1439528400       10.8         179      2.47   \n",
       "2015-08-15 00:00:00+02:00         1439672400       9.56         306      1.43   \n",
       "2015-08-16 00:00:00+02:00         1439704800      10.75         356      2.69   \n",
       "\n",
       "                          heatingDegreeDays16.5  \n",
       "time                                             \n",
       "2015-08-13 00:00:00+02:00                     0  \n",
       "2015-08-14 00:00:00+02:00                     0  \n",
       "2015-08-15 00:00:00+02:00                     0  \n",
       "2015-08-16 00:00:00+02:00                     0  \n",
       "\n",
       "[4 rows x 23 columns]"
      ]
     },
     "execution_count": 7,
     "metadata": {},
     "output_type": "execute_result"
    }
   ],
   "source": [
    "WD.df"
   ]
  },
  {
   "cell_type": "code",
   "execution_count": 9,
   "metadata": {
    "collapsed": false
   },
   "outputs": [
    {
     "data": {
      "text/plain": [
       "pandas.tslib.Timestamp"
      ]
     },
     "execution_count": 9,
     "metadata": {},
     "output_type": "execute_result"
    }
   ],
   "source": [
    "type(start)"
   ]
  },
  {
   "cell_type": "code",
   "execution_count": 8,
   "metadata": {
    "collapsed": false
   },
   "outputs": [
    {
     "ename": "TypeError",
     "evalue": "tzinfo argument must be None or of a tzinfo subclass, not type 'str'",
     "output_type": "error",
     "traceback": [
      "\u001b[1;31m---------------------------------------------------------------------------\u001b[0m",
      "\u001b[1;31mTypeError\u001b[0m                                 Traceback (most recent call last)",
      "\u001b[1;32m<ipython-input-8-75180a3ce633>\u001b[0m in \u001b[0;36m<module>\u001b[1;34m()\u001b[0m\n\u001b[1;32m----> 1\u001b[1;33m \u001b[0mWD\u001b[0m\u001b[1;33m.\u001b[0m\u001b[0m_dayset\u001b[0m\u001b[1;33m(\u001b[0m\u001b[1;34m'20151010'\u001b[0m\u001b[1;33m)\u001b[0m\u001b[1;33m\u001b[0m\u001b[0m\n\u001b[0m",
      "\u001b[1;32m/mnt/data/work/opengrid/code/opengrid/library/forecastwrapper.py\u001b[0m in \u001b[0;36m_dayset\u001b[1;34m(self, start, end)\u001b[0m\n\u001b[0;32m     63\u001b[0m         \"\"\"\n\u001b[0;32m     64\u001b[0m         \u001b[1;32mif\u001b[0m \u001b[0mend\u001b[0m \u001b[1;32mis\u001b[0m \u001b[0mNone\u001b[0m\u001b[1;33m:\u001b[0m\u001b[1;33m\u001b[0m\u001b[0m\n\u001b[1;32m---> 65\u001b[1;33m             \u001b[0mend\u001b[0m \u001b[1;33m=\u001b[0m \u001b[0mdatetime\u001b[0m\u001b[1;33m.\u001b[0m\u001b[0mdatetime\u001b[0m\u001b[1;33m.\u001b[0m\u001b[0mnow\u001b[0m\u001b[1;33m(\u001b[0m\u001b[1;34m'UTC'\u001b[0m\u001b[1;33m)\u001b[0m\u001b[1;33m\u001b[0m\u001b[0m\n\u001b[0m\u001b[0;32m     66\u001b[0m \u001b[1;33m\u001b[0m\u001b[0m\n\u001b[0;32m     67\u001b[0m         \u001b[0mres\u001b[0m \u001b[1;33m=\u001b[0m \u001b[1;33m[\u001b[0m\u001b[1;33m]\u001b[0m\u001b[1;33m\u001b[0m\u001b[0m\n",
      "\u001b[1;31mTypeError\u001b[0m: tzinfo argument must be None or of a tzinfo subclass, not type 'str'"
     ]
    }
   ],
   "source": [
    "WD._dayset('20151010')"
   ]
  },
  {
   "cell_type": "code",
   "execution_count": null,
   "metadata": {
    "collapsed": false
   },
   "outputs": [],
   "source": [
    "WD2 = forecastwrapper.Weather_Days(api_key=api_key, location='Ukkel', start=start, end=end, heatingDegreeDays=True, heatingBaseTemps=[15,18], coolingDegreeDays=True, coolingBaseTemps=[18,24])"
   ]
  },
  {
   "cell_type": "code",
   "execution_count": null,
   "metadata": {
    "collapsed": false
   },
   "outputs": [],
   "source": [
    "WD2.df"
   ]
  },
  {
   "cell_type": "markdown",
   "metadata": {},
   "source": [
    "# Get weather data in hourly resolution"
   ]
  },
  {
   "cell_type": "code",
   "execution_count": null,
   "metadata": {
    "collapsed": true
   },
   "outputs": [],
   "source": [
    "WHGent = forecastwrapper.Weather_Hours(api_key=api_key, location='Gent', \n",
    "                                   start=pd.Timestamp('20150916'), end=pd.Timestamp('20150918'))\n",
    "WHBoutersem = forecastwrapper.Weather_Hours(api_key=api_key, location='Kapelstraat 1, 3370 Boutersem', \n",
    "                                   start=pd.Timestamp('20150916'), end=pd.Timestamp('20150918'))"
   ]
  },
  {
   "cell_type": "code",
   "execution_count": null,
   "metadata": {
    "collapsed": false
   },
   "outputs": [],
   "source": [
    "df_combined = pd.merge(WHGent.df, WHBoutersem.df, suffixes=('_Gent', '_Boutersem'), \n",
    "                           left_index=True, right_index=True)"
   ]
  },
  {
   "cell_type": "code",
   "execution_count": null,
   "metadata": {
    "collapsed": false
   },
   "outputs": [],
   "source": [
    "charts.plot(df_combined.filter(like='cloud'), stock=True, show='inline')"
   ]
  },
  {
   "cell_type": "markdown",
   "metadata": {},
   "source": [
    "# Deal with different timezones"
   ]
  },
  {
   "cell_type": "markdown",
   "metadata": {},
   "source": [
    "By default, all dataframes are localized to the timezone of the specified location.\n",
    "If you want, you can specify the tz argument to get the dataframe localized to a specified timezone."
   ]
  },
  {
   "cell_type": "code",
   "execution_count": null,
   "metadata": {
    "collapsed": true
   },
   "outputs": [],
   "source": [
    "start = pd.Timestamp('20150815')\n",
    "end = pd.Timestamp('20150816')"
   ]
  },
  {
   "cell_type": "code",
   "execution_count": null,
   "metadata": {
    "collapsed": true
   },
   "outputs": [],
   "source": [
    "WDLondon = forecastwrapper.Weather_Days(api_key=api_key, location='London', start=start, end=end, tz='Asia/Singapore')\n",
    "WDBrussels = forecastwrapper.Weather_Days(api_key=api_key, location='Brussels', start=start, end=end, tz='Asia/Singapore')"
   ]
  },
  {
   "cell_type": "code",
   "execution_count": null,
   "metadata": {
    "collapsed": false
   },
   "outputs": [],
   "source": [
    "WDLondon.df"
   ]
  },
  {
   "cell_type": "code",
   "execution_count": null,
   "metadata": {
    "collapsed": false
   },
   "outputs": [],
   "source": [
    "WDBrussels.df"
   ]
  },
  {
   "cell_type": "code",
   "execution_count": null,
   "metadata": {
    "collapsed": true
   },
   "outputs": [],
   "source": []
  }
 ],
 "metadata": {
  "kernelspec": {
   "display_name": "Python 2",
   "language": "python",
   "name": "python2"
  },
  "language_info": {
   "codemirror_mode": {
    "name": "ipython",
    "version": 2
   },
   "file_extension": ".py",
   "mimetype": "text/x-python",
   "name": "python",
   "nbconvert_exporter": "python",
   "pygments_lexer": "ipython2",
   "version": "2.7.8"
  }
 },
 "nbformat": 4,
 "nbformat_minor": 0
}
