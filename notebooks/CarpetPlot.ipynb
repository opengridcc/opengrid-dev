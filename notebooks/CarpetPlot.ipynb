{
 "cells": [
  {
   "cell_type": "markdown",
   "metadata": {},
   "source": [
    "## This script shows the visualization of electricity, water and gas consumption using carpet plots\n",
    "\n",
    "To get started, first run the 'Synchronize data' script\n",
    "\n",
    "#### Imports and paths"
   ]
  },
  {
   "cell_type": "code",
   "execution_count": null,
   "metadata": {
    "collapsed": false
   },
   "outputs": [],
   "source": [
    "import os\n",
    "import sys\n",
    "import pytz\n",
    "import time\n",
    "import inspect\n",
    "import numpy as np\n",
    "import pandas as pd\n",
    "import datetime as dt\n",
    "import matplotlib.pyplot as plt\n",
    "import tmpo\n",
    "\n",
    "from opengrid import config\n",
    "from opengrid.library import plotting\n",
    "from opengrid.library import houseprint\n",
    "\n",
    "c=config.Config()\n",
    "\n",
    "try:\n",
    "    if os.path.exists(c.get('tmpo', 'data')):\n",
    "        path_to_tmpo_data = c.get('tmpo', 'data')\n",
    "except:\n",
    "    path_to_tmpo_data = None\n",
    "\n",
    "%matplotlib inline\n",
    "plt.rcParams['figure.figsize'] = 16,8\n",
    "\n",
    "# path to data\n",
    "path_to_data = c.get('data', 'folder')\n",
    "if not os.path.exists(path_to_data):\n",
    "    raise IOError(\"Provide your path to the data in your config.ini file.  This is a folder containing a 'zip' and 'csv' subfolder.\")\n",
    "else:\n",
    "    path_to_fig = os.path.join(path_to_data, 'figures')\n",
    "    if not os.path.isdir(path_to_fig): os.makedirs(path_to_fig)"
   ]
  },
  {
   "cell_type": "markdown",
   "metadata": {},
   "source": [
    "### Loading meta data and user variables"
   ]
  },
  {
   "cell_type": "code",
   "execution_count": null,
   "metadata": {
    "collapsed": false
   },
   "outputs": [],
   "source": [
    "hp = houseprint.load_houseprint_from_file('new_houseprint.pkl')\n",
    "\n",
    "\n",
    "end = pd.Timestamp(time.time(), unit='s')\n",
    "start = end - pd.Timedelta('30 days')"
   ]
  },
  {
   "cell_type": "markdown",
   "metadata": {},
   "source": [
    "## Plotting"
   ]
  },
  {
   "cell_type": "code",
   "execution_count": null,
   "metadata": {
    "collapsed": true
   },
   "outputs": [],
   "source": [
    "hp.init_tmpo(path_to_tmpo_data=path_to_tmpo_data)"
   ]
  },
  {
   "cell_type": "markdown",
   "metadata": {},
   "source": [
    "### Water sensors"
   ]
  },
  {
   "cell_type": "code",
   "execution_count": null,
   "metadata": {
    "collapsed": false
   },
   "outputs": [],
   "source": [
    "water_sensors = hp.get_sensors(sensortype='water')\n",
    "print(\"{} water sensors\".format(len(water_sensors)))"
   ]
  },
  {
   "cell_type": "code",
   "execution_count": null,
   "metadata": {
    "collapsed": false
   },
   "outputs": [],
   "source": [
    "for sensor in water_sensors:\n",
    "    tscum = sensor.get_data(head=start, tail=end)\n",
    "    ts = tscum.diff()*60\n",
    "    if not ts.dropna().empty:\n",
    "        plotting.carpet(ts, title=sensor.device.key, zlabel=r'Flow [l/hour]')\n",
    "        plt.savefig(os.path.join(path_to_fig, 'carpet_water_'+sensor.device.key+'_tmpo_'+sensor.key), dpi=100)"
   ]
  },
  {
   "cell_type": "markdown",
   "metadata": {},
   "source": [
    "### Gas sensors"
   ]
  },
  {
   "cell_type": "code",
   "execution_count": null,
   "metadata": {
    "collapsed": false
   },
   "outputs": [],
   "source": [
    "gas_sensors = hp.get_sensors(sensortype=('gas'))\n",
    "print(\"{} gas sensors\".format(len(gas_sensors)))"
   ]
  },
  {
   "cell_type": "code",
   "execution_count": null,
   "metadata": {
    "collapsed": false
   },
   "outputs": [],
   "source": [
    "for sensor in gas_sensors:\n",
    "    tscum = sensor.get_data(head=start, tail=end)\n",
    "    ts = tscum.diff()*60\n",
    "    if not ts.dropna().empty:\n",
    "        plotting.carpet(ts, title=sensor.device.key, zlabel=r'Flow [l/hour]')\n",
    "        plt.savefig(os.path.join(path_to_fig, 'carpet_gas_'+sensor.device.key+'_tmpo_'+sensor.key), dpi=100)"
   ]
  },
  {
   "cell_type": "markdown",
   "metadata": {},
   "source": [
    "### Electricity sensors"
   ]
  },
  {
   "cell_type": "code",
   "execution_count": null,
   "metadata": {
    "collapsed": false
   },
   "outputs": [],
   "source": [
    "elec_sensors = hp.get_sensors(sensortype=('electricity'))\n",
    "print(\"{} electricity sensors\".format(len(elec_sensors)))"
   ]
  },
  {
   "cell_type": "code",
   "execution_count": null,
   "metadata": {
    "collapsed": false,
    "scrolled": false
   },
   "outputs": [],
   "source": [
    "for sensor in elec_sensors:\n",
    "    tscum = sensor.get_data(head=start, tail=end)\n",
    "    ts = tscum.diff()*60\n",
    "    if not ts.dropna().empty:\n",
    "        plotting.carpet(ts, title=sensor.device.key, zlabel=r'Power [W]')\n",
    "        plt.savefig(os.path.join(path_to_fig, 'carpet_elec_'+sensor.device.key+'_tmpo_'+sensor.key), dpi=100)"
   ]
  },
  {
   "cell_type": "code",
   "execution_count": null,
   "metadata": {
    "collapsed": false
   },
   "outputs": [],
   "source": []
  }
 ],
 "metadata": {
  "kernelspec": {
   "display_name": "Python 3",
   "language": "python",
   "name": "python3"
  },
  "language_info": {
   "codemirror_mode": {
    "name": "ipython",
    "version": 3
   },
   "file_extension": ".py",
   "mimetype": "text/x-python",
   "name": "python",
   "nbconvert_exporter": "python",
   "pygments_lexer": "ipython3",
   "version": "3.5.0"
  }
 },
 "nbformat": 4,
 "nbformat_minor": 0
}
