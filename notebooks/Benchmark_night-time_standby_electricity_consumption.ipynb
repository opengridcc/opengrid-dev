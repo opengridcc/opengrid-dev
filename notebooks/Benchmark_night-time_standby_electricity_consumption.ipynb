{
 "cells": [
  {
   "cell_type": "markdown",
   "metadata": {},
   "source": [
    "### This script shows how to use the existing code in opengrid to create a baseload electricity consumption benchmark. "
   ]
  },
  {
   "cell_type": "code",
   "execution_count": null,
   "metadata": {
    "collapsed": false
   },
   "outputs": [],
   "source": [
    "import os\n",
    "import sys\n",
    "import inspect\n",
    "import numpy as np\n",
    "\n",
    "import datetime as dt\n",
    "import time\n",
    "import pytz\n",
    "import pandas as pd\n",
    "import pdb\n",
    "import tmpo\n",
    "\n",
    "from opengrid import config\n",
    "c=config.Config()\n",
    "DEV = c.get('env', 'type') == 'dev' # DEV is True if we are in development environment, False if on the droplet\n",
    "\n",
    "if not DEV:\n",
    "    # production environment: don't try to display plots\n",
    "    import matplotlib\n",
    "    matplotlib.use('Agg')\n",
    "import matplotlib.pyplot as plt\n",
    "from matplotlib.dates import HourLocator, DateFormatter, AutoDateLocator\n",
    "import charts\n",
    "\n",
    "from opengrid.library import houseprint\n",
    "\n",
    "if DEV:\n",
    "    if c.get('env', 'plots') == 'inline':\n",
    "        %matplotlib inline\n",
    "    else:\n",
    "        %matplotlib qt\n",
    "else:\n",
    "    pass # don't try to render plots\n",
    "plt.rcParams['figure.figsize'] = 12,8\n"
   ]
  },
  {
   "cell_type": "markdown",
   "metadata": {},
   "source": [
    "### Script settings\n"
   ]
  },
  {
   "cell_type": "code",
   "execution_count": null,
   "metadata": {
    "collapsed": false
   },
   "outputs": [],
   "source": [
    "BXL = pytz.timezone('Europe/Brussels')\n",
    "number_of_days = 7"
   ]
  },
  {
   "cell_type": "markdown",
   "metadata": {},
   "source": [
    "### We create one big dataframe, the columns are the sensors of type *electricity*"
   ]
  },
  {
   "cell_type": "code",
   "execution_count": null,
   "metadata": {
    "collapsed": false
   },
   "outputs": [],
   "source": [
    "hp = houseprint.Houseprint()\n",
    "hp.init_tmpo()\n",
    "hp._tmpos.debug=True"
   ]
  },
  {
   "cell_type": "code",
   "execution_count": null,
   "metadata": {
    "collapsed": false,
    "scrolled": true
   },
   "outputs": [],
   "source": [
    "hp.sync_tmpos()"
   ]
  },
  {
   "cell_type": "code",
   "execution_count": null,
   "metadata": {
    "collapsed": false,
    "scrolled": true
   },
   "outputs": [],
   "source": [
    "start = pd.Timestamp(time.time() - number_of_days*86400, unit='s')\n",
    "df = hp.get_data(sensortype='electricity', head=start, resample='s')"
   ]
  },
  {
   "cell_type": "code",
   "execution_count": null,
   "metadata": {
    "collapsed": false
   },
   "outputs": [],
   "source": [
    "# Remove some sensors\n",
    "exclude = [\n",
    "            '565de0a7dc64d8370aa321491217b85f' # 3E\n",
    "          ]\n",
    "solar = [x.key for x in hp.search_sensors(type='electricity', system='solar')]\n",
    "exclude += solar"
   ]
  },
  {
   "cell_type": "code",
   "execution_count": null,
   "metadata": {
    "collapsed": false
   },
   "outputs": [],
   "source": [
    "for s in exclude:\n",
    "    try:\n",
    "        df.drop(s, axis=1, inplace=True)\n",
    "    except:\n",
    "        pass"
   ]
  },
  {
   "cell_type": "code",
   "execution_count": null,
   "metadata": {
    "collapsed": true
   },
   "outputs": [],
   "source": [
    "df = df.resample(rule='60s', how='max')\n",
    "df = df.diff()*3600/60"
   ]
  },
  {
   "cell_type": "markdown",
   "metadata": {},
   "source": [
    "###  Convert Datetimeindex to local time"
   ]
  },
  {
   "cell_type": "code",
   "execution_count": null,
   "metadata": {
    "collapsed": true
   },
   "outputs": [],
   "source": [
    "df = df.tz_convert(BXL)"
   ]
  },
  {
   "cell_type": "code",
   "execution_count": null,
   "metadata": {
    "collapsed": false,
    "scrolled": false
   },
   "outputs": [],
   "source": [
    "# plot a few dataframes to inspect them\n",
    "if DEV:\n",
    "    charts.plot(df.ix[:,:5], stock=True)"
   ]
  },
  {
   "cell_type": "markdown",
   "metadata": {},
   "source": [
    "We define two low-level functions "
   ]
  },
  {
   "cell_type": "code",
   "execution_count": null,
   "metadata": {
    "collapsed": false
   },
   "outputs": [],
   "source": [
    "def testvalid(row):\n",
    "    \"\"\"\n",
    "    Take a row of a dataframe with columns minima and maxima and\n",
    "    check if the sensor seems to give good data (for electricity CONSUMPTION)\n",
    "    \"\"\"\n",
    "    if row['maxima'] < 10:\n",
    "        # This can not be consumption. Probably a PV sensor or a submeter\n",
    "        return False\n",
    "    if row['maxima'] == row['minima']:\n",
    "        # Flat measurement.  Sensor broken, not connected, or on a dead circuit?\n",
    "        return False\n",
    "    # all other cases seem ok\n",
    "    return True"
   ]
  },
  {
   "cell_type": "code",
   "execution_count": null,
   "metadata": {
    "collapsed": false
   },
   "outputs": [],
   "source": [
    "def get_minima(sensor):\n",
    "    \"\"\"\n",
    "    Return the standby consumption for the covered days for a given sensor as an array.  \n",
    "    Take care of days where this sensor has NO VALID standby consumption\n",
    "    \"\"\"\n",
    "    \n",
    "    global minima\n",
    "    \n",
    "    res = np.ndarray(len(minima))\n",
    "    for i,df in enumerate(minima):\n",
    "        try: \n",
    "            res[i] = df[sensor]\n",
    "        except:\n",
    "            res[i] = np.nan\n",
    "            \n",
    "    return res"
   ]
  },
  {
   "cell_type": "markdown",
   "metadata": {},
   "source": [
    "## Data handling\n",
    "\n",
    "We have to filter out the data, we do three things:\n",
    "\n",
    "1. split the data in dataframes per day \n",
    "2. filter out the night-time hours (between 00h00 and 05h00)\n",
    "3. we check if the resulting time series contain enough variation (negatives and constant signals are filtered out)"
   ]
  },
  {
   "cell_type": "code",
   "execution_count": null,
   "metadata": {
    "collapsed": false
   },
   "outputs": [],
   "source": [
    "index_slices = [] # will contain the correct index slices for each of the analysed nights\n",
    "minima = [] # each element in minima is a dataframe with standby consumption per valid sensor\n",
    "valid_sensors = set() # we keep track of all sensors that yield a valid standby consumption for at least one day.\n",
    "\n",
    "\n",
    "# find the date for which we still have the full night (between 01:00 and 05:00).  We will store it as datetime at 00:00 (local time)\n",
    "hour = df.index[-1].hour # the hour of the last index.  \n",
    "if hour >= 5:\n",
    "    last_day = df.index[-1].date()\n",
    "else:\n",
    "    last_day = (df.index[-1] - dt.timedelta(days=1)).date()\n",
    "\n",
    "for day in range(number_of_days)[::-1]:\n",
    "    #pdb.set_trace()\n",
    "    dt_start = dt.datetime.combine(last_day - dt.timedelta(days=day), dt.time(0,0)) # start slicing at 00:00 local time\n",
    "    dt_stop = dt.datetime.combine(last_day - dt.timedelta(days=day), dt.time(5,0)) # stop slicing at 05:00 local time\n",
    "       \n",
    "    df_night = df.ix[dt_start:dt_stop] # contains only data for a single night\n",
    "    index_slices.append(df_night.index.copy())\n",
    "        \n",
    "    df_results = pd.DataFrame(index=df.columns)  #df_results contains the results of the analysis for a single night.  Index = sensorid\n",
    "    df_results['minima'] = df_night.min(axis=0)\n",
    "    df_results['maxima'] = df_night.max(axis=0)\n",
    "    df_results['valid'] = df_results.apply(testvalid, axis=1)\n",
    "    \n",
    "    minima.append(df_results['minima'].ix[df_results.valid])\n",
    "    valid_sensors.update(set(minima[-1].index.tolist()))\n",
    "  "
   ]
  },
  {
   "cell_type": "markdown",
   "metadata": {},
   "source": [
    "## Plots\n",
    "\n",
    "The next plots are the current benchmarks, anonymous. The left figure shows where the given sensor (or family) is situated compared to all other families.  The right plot shows the night-time consumption for this night. \n",
    "\n",
    "In a next step, it would be nice to create an interactive plot (D3.js?) for the right side: it should show the night-time consumption **for the day over which the mouse hovers in the left graph**.  "
   ]
  },
  {
   "cell_type": "code",
   "execution_count": null,
   "metadata": {
    "collapsed": false
   },
   "outputs": [],
   "source": [
    "index_slices_days = [x[0] for x in index_slices[1:]]\n",
    "index = pd.DatetimeIndex(freq='D', start=index_slices_days[0], periods=number_of_days)"
   ]
  },
  {
   "cell_type": "code",
   "execution_count": null,
   "metadata": {
    "collapsed": false
   },
   "outputs": [],
   "source": [
    "df_=pd.concat(minima, axis=1)\n",
    "df_.columns = index"
   ]
  },
  {
   "cell_type": "code",
   "execution_count": null,
   "metadata": {
    "collapsed": false
   },
   "outputs": [],
   "source": [
    "df_statistics = df_.describe().T"
   ]
  },
  {
   "cell_type": "code",
   "execution_count": null,
   "metadata": {
    "collapsed": false
   },
   "outputs": [],
   "source": [
    "df_statistics"
   ]
  },
  {
   "cell_type": "code",
   "execution_count": null,
   "metadata": {
    "collapsed": false,
    "scrolled": false
   },
   "outputs": [],
   "source": [
    "for sensor in valid_sensors:\n",
    "    plt.figure(figsize=(10,5))\n",
    "    ax1=plt.subplot(121)\n",
    "    box = [x.values for x in minima]\n",
    "    ax1.boxplot(box, positions=range(len(df_statistics)), notch=False)\n",
    "    ax1.plot(range(len(df_statistics)), get_minima(sensor), 'rD', ms=10, label='Sluipverbruik')\n",
    "    xticks = [x[0].strftime(format='%d/%m') for x in index_slices]\n",
    "    plt.xticks(range(len(df_statistics)), xticks, rotation='vertical')\n",
    "    plt.title(hp.find_sensor(sensor).device.key + ' - ' + sensor)\n",
    "    ax1.grid()\n",
    "    ax1.set_ylabel('Watt')\n",
    "    plt.legend(numpoints=1, frameon=False)\n",
    "    #ax1.set_xticklabels([t.strftime(format='%d/%m') for t in df_all_perday.index.tolist()])\n",
    "\n",
    "    ax2=plt.subplot(122)\n",
    "    try:\n",
    "        ax2.plot(index_slices[-1], df.ix[index_slices[-1]][sensor], 'b-', label='Afgelopen nacht')\n",
    "        ax2.xaxis_date(BXL) #Put timeseries plot in local time\n",
    "        # rotate the labels\n",
    "        plt.xticks(rotation='vertical')\n",
    "        ax2.set_ylabel('Watt')\n",
    "        ax2.grid()\n",
    "        plt.legend(loc='upper right', frameon=False)\n",
    "        plt.tight_layout()\n",
    "    except Exception as e:\n",
    "        print(e)\n",
    "    else:\n",
    "        plt.savefig(os.path.join(c.get('data', 'folder'), 'figures', 'standby_horizontal_'+sensor+'.png'), dpi=100)\n",
    "    \n",
    "    if not DEV:\n",
    "        plt.close()"
   ]
  },
  {
   "cell_type": "code",
   "execution_count": null,
   "metadata": {
    "collapsed": false,
    "scrolled": true
   },
   "outputs": [],
   "source": [
    "for sensor in list(valid_sensors)[:]:\n",
    "    plt.figure(figsize=(10,8))\n",
    "    ax1=plt.subplot(211)\n",
    "    ax1.plot_date(df_statistics.index, df_statistics[u'25%'], '-', lw=2, color='g', label=u'25%')\n",
    "    ax1.plot_date(df_statistics.index, df_statistics[u'50%'], '-', lw=2, color='orange', label=u'50%')\n",
    "    ax1.plot_date(df_statistics.index, df_statistics[u'75%'], '-', lw=2, color='r', label=u'75%')\n",
    "    \n",
    "    ax1.plot_date(df_.T.index, df_.T[sensor], 'rD', ms=7) \n",
    "    \n",
    "    xticks = [x.strftime(format='%d/%m') for x in df_statistics.index]\n",
    "    locs, lables=plt.xticks()\n",
    "    plt.xticks(locs, xticks, rotation='vertical')\n",
    "    plt.title(hp.find_sensor(sensor).device.key + ' - ' + sensor)\n",
    "    ax1.grid()\n",
    "    ax1.set_ylabel('Watt')\n",
    "    \n",
    "    ax2=plt.subplot(212)\n",
    "    try:\n",
    "        ax2.plot(index_slices[-1], df.ix[index_slices[-1]][sensor], 'b-', label='Afgelopen nacht')\n",
    "        ax2.xaxis_date(BXL) #Put timeseries plot in local time\n",
    "        # rotate the labels\n",
    "        plt.xticks(rotation='vertical')\n",
    "        plt.legend()\n",
    "        ax2.set_ylabel('Watt')\n",
    "    except:\n",
    "        print(\"Could not create graph for {}\".format(hp.find_sensor(sensor).device.key))\n",
    "    else:\n",
    "        plt.savefig(os.path.join(c.get('data', 'folder'), 'figures', 'standby_vertical_'+sensor+'.png'), dpi=100)\n",
    "    if not DEV:\n",
    "        plt.close()"
   ]
  },
  {
   "cell_type": "code",
   "execution_count": null,
   "metadata": {
    "collapsed": true
   },
   "outputs": [],
   "source": []
  },
  {
   "cell_type": "code",
   "execution_count": null,
   "metadata": {
    "collapsed": true
   },
   "outputs": [],
   "source": []
  },
  {
   "cell_type": "code",
   "execution_count": null,
   "metadata": {
    "collapsed": true
   },
   "outputs": [],
   "source": []
  },
  {
   "cell_type": "code",
   "execution_count": null,
   "metadata": {
    "collapsed": true
   },
   "outputs": [],
   "source": []
  }
 ],
 "metadata": {
  "kernelspec": {
   "display_name": "Python 2",
   "language": "python",
   "name": "python2"
  },
  "language_info": {
   "codemirror_mode": {
    "name": "ipython",
    "version": 2
   },
   "file_extension": ".py",
   "mimetype": "text/x-python",
   "name": "python",
   "nbconvert_exporter": "python",
   "pygments_lexer": "ipython2",
   "version": "2.7.8"
  }
 },
 "nbformat": 4,
 "nbformat_minor": 0
}
