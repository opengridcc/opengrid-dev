{
 "cells": [
  {
   "cell_type": "markdown",
   "metadata": {},
   "source": [
    "# Slackbot"
   ]
  },
  {
   "cell_type": "markdown",
   "metadata": {},
   "source": [
    "Small demo to show how to post a message to the OpenGrid Slack Channel"
   ]
  },
  {
   "cell_type": "markdown",
   "metadata": {},
   "source": [
    "## Imports and config"
   ]
  },
  {
   "cell_type": "code",
   "execution_count": null,
   "metadata": {
    "collapsed": true
   },
   "outputs": [],
   "source": [
    "from opengrid.library.slack import Slack\n",
    "from opengrid import config"
   ]
  },
  {
   "cell_type": "markdown",
   "metadata": {},
   "source": [
    "Get URL from config file"
   ]
  },
  {
   "cell_type": "code",
   "execution_count": null,
   "metadata": {
    "collapsed": false
   },
   "outputs": [],
   "source": [
    "config = config.Config()\n",
    "slack_url = config.get('Slack', 'webhook')"
   ]
  },
  {
   "cell_type": "markdown",
   "metadata": {},
   "source": [
    "## Create Slackbot"
   ]
  },
  {
   "cell_type": "markdown",
   "metadata": {},
   "source": [
    "These settings are all optional"
   ]
  },
  {
   "cell_type": "code",
   "execution_count": null,
   "metadata": {
    "collapsed": true
   },
   "outputs": [],
   "source": [
    "username = 'DemoBot'\n",
    "channel = \"junk\" # we don't want to clutter up everything\n",
    "emoji = ':jack_o_lantern:'"
   ]
  },
  {
   "cell_type": "markdown",
   "metadata": {},
   "source": [
    "Create the actual communication object"
   ]
  },
  {
   "cell_type": "code",
   "execution_count": null,
   "metadata": {
    "collapsed": false
   },
   "outputs": [],
   "source": [
    "slack = Slack(url=slack_url, username=username, channel=channel, emoji=emoji)"
   ]
  },
  {
   "cell_type": "markdown",
   "metadata": {},
   "source": [
    "## Post simple string messages"
   ]
  },
  {
   "cell_type": "markdown",
   "metadata": {},
   "source": [
    "Now create a message and post it"
   ]
  },
  {
   "cell_type": "code",
   "execution_count": null,
   "metadata": {
    "collapsed": true
   },
   "outputs": [],
   "source": [
    "message = \"Hello from the demo notebook\""
   ]
  },
  {
   "cell_type": "code",
   "execution_count": null,
   "metadata": {
    "collapsed": false
   },
   "outputs": [],
   "source": [
    "slack.post_text(message)"
   ]
  },
  {
   "cell_type": "markdown",
   "metadata": {},
   "source": [
    "You can also post multiple strings, which will be printed on separate lines"
   ]
  },
  {
   "cell_type": "code",
   "execution_count": null,
   "metadata": {
    "collapsed": false
   },
   "outputs": [],
   "source": [
    "slack.post_text('Hello', 'this', 'is', 'a', 'multiline', 'post')"
   ]
  },
  {
   "cell_type": "markdown",
   "metadata": {},
   "source": [
    "## Post complex JSONs"
   ]
  },
  {
   "cell_type": "markdown",
   "metadata": {},
   "source": [
    "Read all about it on https://api.slack.com/docs/messages"
   ]
  },
  {
   "cell_type": "code",
   "execution_count": null,
   "metadata": {
    "collapsed": false
   },
   "outputs": [],
   "source": [
    "json_message = {\n",
    "    \"text\": \"This is the title text of the message\",\n",
    "    \"attachments\": [\n",
    "        {\n",
    "            \"title\": \"This is a title\",\n",
    "            \"text\": \"\"\"This is the main text block of the attachment. It will collapse the text if it is longer than 700 characters or 5 lines\n",
    "            \n",
    "            Lorem ipsum dolor sit amet, consectetuer adipiscing elit.\n",
    "            Aenean commodo ligula eget dolor. Aenean massa.\n",
    "            Cum sociis natoque penatibus et magnis dis parturient montes, nascetur ridiculus mus.\n",
    "            Donec quam felis, ultricies nec, pellentesque eu, pretium quis, sem.\n",
    "            Nulla consequat massa quis enim. Donec pede justo, fringilla vel, aliquet nec, vulputate eget, arcu.\n",
    "            In enim justo, rhoncus ut, imperdiet a, venenatis vitae, justo. Nullam dictum felis eu pede mollis pretium.\n",
    "            Integer tincidunt. Cras dapibus. Vivamus elementum semper nisi.\n",
    "            Aenean vulputate eleifend tellus. Aenean leo ligula, porttitor eu, consequat vitae, eleifend ac, enim.\n",
    "            Aliquam lorem ante, dapibus in, viverra quis, feugiat a, tellus. Phasellus viverra nulla ut metus varius laoreet.\n",
    "            Quisque rutrum. Aenean imperdiet. Etiam ultricies nisi vel augue. Curabitur ullamcorper ultricies nisi.\n",
    "            Nam eget dui.\n",
    "            \"\"\",\n",
    "            \"fallback\": \"You need this little text, it is displayed in the pop-up messages and notifications\",\n",
    "            \"color\": \"danger\", # this will create a red line\n",
    "            \"fields\": [\n",
    "                {\n",
    "                    \"title\": \"Field 1\",\n",
    "                    \"value\": \"This is a short field\",\n",
    "                    \"short\": True\n",
    "                },\n",
    "                {\n",
    "                    \"title\": \"Field 2\",\n",
    "                    \"value\": \"This is another short field\",\n",
    "                    \"short\": True\n",
    "                },\n",
    "                {\n",
    "                    \"title\": \"Field 3\",\n",
    "                    \"value\": \"This is a long field, it will take the full width of the screen\",\n",
    "                    \"short\": False\n",
    "                }\n",
    "            ]\n",
    "        }\n",
    "    ]\n",
    "}"
   ]
  },
  {
   "cell_type": "code",
   "execution_count": null,
   "metadata": {
    "collapsed": false
   },
   "outputs": [],
   "source": [
    "slack.post_json(json_message)"
   ]
  },
  {
   "cell_type": "markdown",
   "metadata": {},
   "source": [
    "# Post a message with buttons"
   ]
  },
  {
   "cell_type": "code",
   "execution_count": null,
   "metadata": {
    "collapsed": true
   },
   "outputs": [],
   "source": [
    "button_message = {\n",
    "    \"text\": \"This is a test message with buttons.\",\n",
    "    \"attachments\": [\n",
    "        {\n",
    "            \"text\": \"Do you want to press a button?\",\n",
    "            \"fallback\": \"There are no buttons to press\",\n",
    "            \"callback_id\": \"button_test\",\n",
    "            \"color\": \"#3AA3E3\",\n",
    "            \"attachment_type\": \"default\",\n",
    "            \"actions\": [\n",
    "                {\n",
    "                    \"name\": \"neutral\",\n",
    "                    \"text\": \"Neutral button\",\n",
    "                    \"type\": \"button\",\n",
    "                    \"value\": \"neutral\"\n",
    "                },\n",
    "                {\n",
    "                    \"name\": \"danger\",\n",
    "                    \"text\": \"Dangerous button\",\n",
    "                    \"style\": \"danger\",\n",
    "                    \"type\": \"button\",\n",
    "                    \"value\": \"danger\",\n",
    "                    \"confirm\": {\n",
    "                        \"title\": \"Are you sure?\",\n",
    "                        \"text\": \"Really?\",\n",
    "                        \"ok_text\": \"Yes\",\n",
    "                        \"dismiss_text\": \"No\"\n",
    "                    }\n",
    "                }\n",
    "            ]\n",
    "        }\n",
    "    ]\n",
    "}"
   ]
  },
  {
   "cell_type": "code",
   "execution_count": null,
   "metadata": {
    "collapsed": false
   },
   "outputs": [],
   "source": [
    "slack.post_json(button_message)"
   ]
  },
  {
   "cell_type": "code",
   "execution_count": null,
   "metadata": {
    "collapsed": true
   },
   "outputs": [],
   "source": []
  }
 ],
 "metadata": {
  "kernelspec": {
   "display_name": "Python 3",
   "language": "python",
   "name": "python3"
  },
  "language_info": {
   "codemirror_mode": {
    "name": "ipython",
    "version": 3
   },
   "file_extension": ".py",
   "mimetype": "text/x-python",
   "name": "python",
   "nbconvert_exporter": "python",
   "pygments_lexer": "ipython3",
   "version": "3.5.0"
  }
 },
 "nbformat": 4,
 "nbformat_minor": 0
}
