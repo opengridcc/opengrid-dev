{
 "cells": [
  {
   "cell_type": "markdown",
   "metadata": {},
   "source": [
    "# General Imports\n"
   ]
  },
  {
   "cell_type": "code",
   "execution_count": null,
   "metadata": {},
   "outputs": [],
   "source": [
    "import os\n",
    "import inspect\n",
    "import sys\n",
    "import pandas as pd\n",
    "import charts\n",
    "from opengrid_dev import config\n",
    "c = config.Config()\n",
    "\n",
    "from opengrid_dev.library import misc, houseprint\n",
    "\n",
    "import matplotlib.pyplot as plt\n",
    "%matplotlib inline\n",
    "plt.rcParams['figure.figsize'] = 16,8"
   ]
  },
  {
   "cell_type": "code",
   "execution_count": null,
   "metadata": {},
   "outputs": [],
   "source": [
    "c.opengrid_libdir"
   ]
  },
  {
   "cell_type": "markdown",
   "metadata": {},
   "source": [
    "## Houseprint"
   ]
  },
  {
   "cell_type": "code",
   "execution_count": null,
   "metadata": {},
   "outputs": [],
   "source": [
    "hp = houseprint.Houseprint()\n",
    "hp.init_tmpo()\n",
    "hp._tmpos.debug = False"
   ]
  },
  {
   "cell_type": "code",
   "execution_count": null,
   "metadata": {},
   "outputs": [],
   "source": [
    "hp.sync_tmpos()"
   ]
  },
  {
   "cell_type": "markdown",
   "metadata": {},
   "source": [
    "## Create dataframes with minute data for a single year, by sensortype\n",
    "\n",
    "Only run if needed. Hourly frames can be created by loading these minute pickles. "
   ]
  },
  {
   "cell_type": "code",
   "execution_count": null,
   "metadata": {},
   "outputs": [],
   "source": [
    "for sensortype in ['gas', \n",
    "                   'water',\n",
    "                   'electricity'\n",
    "                  ]:\n",
    "    print('Processing {}'.format(sensortype))\n",
    "    for y in ['2016']:\n",
    "        print('year {}'.format(y))\n",
    "        head = pd.Timestamp('{}0101'.format(y), tz='Europe/Brussels')\n",
    "        tail = pd.Timestamp('{}0101 02:00:00'.format(int(y)+1), tz='Europe/Brussels')\n",
    "        df = hp.get_data(sensortype=sensortype, head=head, tail=tail, diff=True, resample='min')\n",
    "        df.rename(columns=lambda x: x[:4], inplace=True)\n",
    "        df = df.tz_convert('Europe/Brussels')\n",
    "        path = os.path.join(c.get('data', 'folder'), '{}_{}_min.pkl'.format(sensortype, y))\n",
    "        df.to_pickle(path, compression='gzip')\n",
    "        \n",
    "        # Create a dataset with minute values for the 3 sensors for gas\n",
    "        if sensortype == 'gas':\n",
    "            df = df[['313b', 'd5a7', 'ba14']]\n",
    "            dflim = df.loc[pd.Timestamp('2016-12-05 00:00:00', tz='Europe/Brussels'):pd.Timestamp('2016-12-19 00:00:00', tz='Europe/Brussels')]\n",
    "            path = os.path.join(c.get('data', 'folder'), '{}_dec2016_min.pkl'.format(sensortype))\n",
    "            dflim.to_pickle(path, compression='gzip')\n",
    "   "
   ]
  },
  {
   "cell_type": "code",
   "execution_count": null,
   "metadata": {},
   "outputs": [],
   "source": [
    "# Minute values for water for march 2015\n",
    "head = pd.Timestamp('20150301', tz='Europe/Brussels')\n",
    "tail = pd.Timestamp('20150401', tz='Europe/Brussels')\n",
    "df = hp.get_data(sensortype='water', head=head, tail=tail, diff=True, resample='min')\n",
    "df.rename(columns=lambda x: x[:4], inplace=True)\n",
    "df = df.tz_convert('Europe/Brussels')\n",
    "path = os.path.join(c.get('data', 'folder'), 'water_march2015_min.pkl')\n",
    "df.to_pickle(path, compression='gzip')"
   ]
  },
  {
   "cell_type": "code",
   "execution_count": null,
   "metadata": {
    "scrolled": true
   },
   "outputs": [],
   "source": [
    "## Create dataframes with hourly data\n",
    "for sensortype in ['water', 'gas', 'electricity']:\n",
    "    print('Processing {}'.format(sensortype))\n",
    "    for y in ['2016']:\n",
    "        print('year {}'.format(y))\n",
    "        path_min = os.path.join(c.get('data', 'folder'), '{}_{}_min.pkl'.format(sensortype, y))\n",
    "        df = pd.read_pickle(path_min, compression='gzip')\n",
    "        # hourly: mean values\n",
    "        df_hour = df.resample(rule='H').mean()\n",
    "        # remove uncomplete sensors and sensors we don't want in the test dataset\n",
    "        for sensor in ['565d']:\n",
    "            try:\n",
    "                df_hour = df_hour.drop(labels=[sensor], axis=1)\n",
    "            except:\n",
    "                pass    \n",
    "        df_hour = df_hour.loc[head:pd.Timestamp('{}0101'.format(int(y)+1), tz='Europe/Brussels')]\n",
    "        df_hour = df_hour.dropna(axis=1, how='any')\n",
    "        \n",
    "        try:\n",
    "            df_hour.plot()\n",
    "        except:\n",
    "            print(\"No full hourly data for {}\".format(y))\n",
    "        \n",
    "        path_hour = os.path.join(c.get('data', 'folder'), '{}_{}_hour.pkl'.format(sensortype, y))\n",
    "        df_hour.to_pickle(path_hour, compression='gzip')"
   ]
  },
  {
   "cell_type": "markdown",
   "metadata": {},
   "source": [
    "## Weather data "
   ]
  },
  {
   "cell_type": "code",
   "execution_count": null,
   "metadata": {},
   "outputs": [],
   "source": [
    "from opengrid_dev.library import forecastwrapper\n",
    "start = pd.Timestamp('20151225', tz='Europe/Brussels')\n",
    "end = pd.Timestamp('20170101', tz='Europe/Brussels')\n",
    "\n",
    "\n",
    "Weather_Ukkel = forecastwrapper.Weather(location='Ukkel', start=start, end=end)"
   ]
  },
  {
   "cell_type": "code",
   "execution_count": null,
   "metadata": {},
   "outputs": [],
   "source": [
    "columns = ['GlobalHorizontalIrradiance', 'humidity', 'temperature', 'windSpeed']\n",
    "df = Weather_Ukkel.hours()[columns]\n",
    "df.info()"
   ]
  },
  {
   "cell_type": "code",
   "execution_count": null,
   "metadata": {},
   "outputs": [],
   "source": [
    "df = df.applymap(float).fillna(value=0)\n",
    "df.info()"
   ]
  },
  {
   "cell_type": "code",
   "execution_count": null,
   "metadata": {},
   "outputs": [],
   "source": [
    "path = os.path.join(c.get('data', 'folder'), 'weather_2016_hour.pkl')\n",
    "df.to_pickle(path, compression='gzip')"
   ]
  },
  {
   "cell_type": "code",
   "execution_count": null,
   "metadata": {},
   "outputs": [],
   "source": []
  }
 ],
 "metadata": {
  "kernelspec": {
   "display_name": "Python 3",
   "language": "python",
   "name": "python3"
  },
  "language_info": {
   "codemirror_mode": {
    "name": "ipython",
    "version": 3
   },
   "file_extension": ".py",
   "mimetype": "text/x-python",
   "name": "python",
   "nbconvert_exporter": "python",
   "pygments_lexer": "ipython3",
   "version": "3.5.2"
  }
 },
 "nbformat": 4,
 "nbformat_minor": 1
}
