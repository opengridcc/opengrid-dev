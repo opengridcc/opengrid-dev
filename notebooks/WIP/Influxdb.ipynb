{
 "cells": [
  {
   "cell_type": "markdown",
   "metadata": {},
   "source": [
    "Influxdb is a time series database written from scratch (in go) and independent of any other database infrastructure. \n",
    "Using the basic influxdb python client, we create a database, a measurement and upload some time series data"
   ]
  },
  {
   "cell_type": "code",
   "execution_count": 1,
   "metadata": {
    "collapsed": false
   },
   "outputs": [
    {
     "name": "stdout",
     "output_type": "stream",
     "text": [
      "Collecting influxdb\n",
      "  Downloading influxdb-2.12.0-py2.py3-none-any.whl (262kB)\n",
      "Collecting python-dateutil>=2.0.0 (from influxdb)\n",
      "  Downloading python_dateutil-2.5.3-py2.py3-none-any.whl (201kB)\n",
      "Requirement already satisfied (use --upgrade to upgrade): requests>=1.0.3 in /usr/lib/python2.7/dist-packages (from influxdb)\n",
      "Requirement already satisfied (use --upgrade to upgrade): six>=1.9.0 in /usr/local/lib/python2.7/dist-packages (from influxdb)\n",
      "Requirement already satisfied (use --upgrade to upgrade): pytz in /usr/lib/python2.7/dist-packages (from influxdb)\n",
      "Installing collected packages: python-dateutil, influxdb\n",
      "  Found existing installation: python-dateutil 1.5\n",
      "    Uninstalling python-dateutil-1.5:\n",
      "      Successfully uninstalled python-dateutil-1.5\n",
      "Successfully installed influxdb-2.12.0 python-dateutil-2.5.3\n"
     ]
    },
    {
     "name": "stderr",
     "output_type": "stream",
     "text": [
      "/usr/local/lib/python2.7/dist-packages/pip/_vendor/requests/packages/urllib3/util/ssl_.py:318: SNIMissingWarning: An HTTPS request has been made, but the SNI (Subject Name Indication) extension to TLS is not available on this platform. This may cause the server to present an incorrect TLS certificate, which can cause validation failures. You can upgrade to a newer version of Python to solve this. For more information, see https://urllib3.readthedocs.org/en/latest/security.html#snimissingwarning.\n",
      "  SNIMissingWarning\n",
      "/usr/local/lib/python2.7/dist-packages/pip/_vendor/requests/packages/urllib3/util/ssl_.py:122: InsecurePlatformWarning: A true SSLContext object is not available. This prevents urllib3 from configuring SSL appropriately and may cause certain SSL connections to fail. You can upgrade to a newer version of Python to solve this. For more information, see https://urllib3.readthedocs.org/en/latest/security.html#insecureplatformwarning.\n",
      "  InsecurePlatformWarning\n",
      "/usr/local/lib/python2.7/dist-packages/pip/_vendor/requests/packages/urllib3/util/ssl_.py:122: InsecurePlatformWarning: A true SSLContext object is not available. This prevents urllib3 from configuring SSL appropriately and may cause certain SSL connections to fail. You can upgrade to a newer version of Python to solve this. For more information, see https://urllib3.readthedocs.org/en/latest/security.html#insecureplatformwarning.\n",
      "  InsecurePlatformWarning\n"
     ]
    }
   ],
   "source": [
    "%%bash\n",
    "pip install influxdb"
   ]
  },
  {
   "cell_type": "code",
   "execution_count": 2,
   "metadata": {
    "collapsed": false
   },
   "outputs": [
    {
     "name": "stdout",
     "output_type": "stream",
     "text": [
      "Server running in the folder /usr/local/opengrid/notebooks/WIP at 127.0.0.1:35117\n"
     ]
    }
   ],
   "source": [
    "import pandas as pd\n",
    "import charts\n",
    "\n",
    "from opengrid.library import houseprint\n",
    "from influxdb import DataFrameClient"
   ]
  },
  {
   "cell_type": "code",
   "execution_count": 3,
   "metadata": {
    "collapsed": true
   },
   "outputs": [],
   "source": [
    "indbclient = DataFrameClient(host='influxdb')\n"
   ]
  },
  {
   "cell_type": "code",
   "execution_count": 60,
   "metadata": {
    "collapsed": false
   },
   "outputs": [],
   "source": [
    "indbclient.drop_database('opengrid')\n",
    "indbclient.create_database('opengrid')"
   ]
  },
  {
   "cell_type": "code",
   "execution_count": 5,
   "metadata": {
    "collapsed": false
   },
   "outputs": [
    {
     "name": "stdout",
     "output_type": "stream",
     "text": [
      "Opening connection to Houseprint sheet\n",
      "Opening spreadsheets\n",
      "Parsing spreadsheets\n",
      "24 Sites created\n",
      "24 Devices created\n",
      "75 sensors created\n",
      "Houseprint parsing complete\n",
      "Using tmpo database from /data/.tmpo/tmpo.sqlite3\n"
     ]
    }
   ],
   "source": [
    "hp = houseprint.Houseprint()\n",
    "hp.sync_tmpos()"
   ]
  },
  {
   "cell_type": "markdown",
   "metadata": {},
   "source": [
    "### Pump all tmpo data to influxdb"
   ]
  },
  {
   "cell_type": "code",
   "execution_count": 63,
   "metadata": {
    "collapsed": false
   },
   "outputs": [
    {
     "name": "stdout",
     "output_type": "stream",
     "text": [
      "Writing data for water, sensor 661684d35cd07dfc657a60b844860785\n",
      "Writing data for water, sensor b28509eb97137e723995838c393d49df\n",
      "Writing data for water, sensor 36dac700f81c6be9ca233e6534182ed4\n",
      "Writing data for water, sensor 2923b75daf93e539e37ce5177c0008c5\n",
      "Writing data for water, sensor a8054ca7865584e69a7c946aeea1e13c\n",
      "Writing data for water, sensor 4e63e6b6b5bdb137658d84a861593e5c\n",
      "Writing data for water, sensor 1a5c55ec176d24483572aca420ac59b5\n",
      "Writing data for water, sensor c57f45b21e2ec21ab427f172478e1ca4\n",
      "Writing data for water, sensor a926bc966f178fc5d507a569a5bfc3d7\n",
      "Writing data for water, sensor a519ce042e8748570d3a91cfca16a747\n",
      "Writing data for gas, sensor a6028457292f1866b468b63adcc82ee3\n",
      "Writing data for gas, sensor 29ba25498c657eda0cdd34bf22d3f9e4\n",
      "Writing data for gas, sensor 313b78fec4f845be91c328ee2f92c6d4\n",
      "Writing data for gas, sensor 051a928dd04ca55e0411bd6f07e05c04\n",
      "Writing data for gas, sensor d4b28740c7ee7a98f94a4d23d794af79\n",
      "Writing data for gas, sensor 4fed53d0c00bbffc26b23366441578f7\n",
      "Writing data for gas, sensor 1e1e43f5edb4d5e43ab721c391410cde\n",
      "Writing data for gas, sensor 185ce03278a9ad44c6cab22869d26e11\n",
      "Writing data for gas, sensor 0a556d75eeb1b5783d7ebfab2e309cb7\n",
      "Writing data for gas, sensor d5a747b86224834f745f4c9775d70241\n",
      "Writing data for gas, sensor 3d75bed61ffb84766a84c107921e32b0\n",
      "Writing data for gas, sensor 1fd6e92d38ccc7ea87793119b7888eec\n",
      "Writing data for gas, sensor ba14f92064072f9783baf27f45a147b4\n",
      "Writing data for gas, sensor 212ce724e124fbde0fb649396375d099\n",
      "Writing data for gas, sensor a5c7faf24bf77ccb13f59e5d87731524\n",
      "Writing data for gas, sensor 2e2e42c92da420eba8fb9aeea78376fc\n",
      "Writing data for gas, sensor 62597ad3e7b8a543db2a574bf5d4685b\n",
      "Writing data for gas, sensor 33e3e6e333de61d67a40e564baad101b\n",
      "Writing data for gas, sensor d23028c01bea77170d8d8ee6254a5a2c\n",
      "Writing data for gas, sensor 29259ec6ef1a8dd2a2af711e86c765aa\n"
     ]
    }
   ],
   "source": [
    "for tpe in [#'electricity', \n",
    "            'water',\n",
    "            'gas']:\n",
    "    df = hp.get_data(sensortype=tpe, diff=False, resample='raw')\n",
    "    for col in df:\n",
    "        print(\"Writing data for {}, sensor {}\".format(tpe, col))\n",
    "        try:\n",
    "            indbclient.write_points(dataframe=df[[col]].dropna(),\n",
    "                                measurement=tpe,\n",
    "                                database='opengrid')\n",
    "        except:\n",
    "            print('   Upload to influxdb failed')"
   ]
  },
  {
   "cell_type": "code",
   "execution_count": 11,
   "metadata": {
    "collapsed": false
   },
   "outputs": [
    {
     "name": "stdout",
     "output_type": "stream",
     "text": [
      "<class 'pandas.core.frame.DataFrame'>\n",
      "DatetimeIndex: 2107597 entries, 2014-10-10 21:27:52+00:00 to 2016-06-05 19:47:28+00:00\n",
      "Data columns (total 10 columns):\n",
      "661684d35cd07dfc657a60b844860785    float64\n",
      "b28509eb97137e723995838c393d49df    float64\n",
      "36dac700f81c6be9ca233e6534182ed4    float64\n",
      "2923b75daf93e539e37ce5177c0008c5    float64\n",
      "a8054ca7865584e69a7c946aeea1e13c    float64\n",
      "4e63e6b6b5bdb137658d84a861593e5c    float64\n",
      "1a5c55ec176d24483572aca420ac59b5    float64\n",
      "c57f45b21e2ec21ab427f172478e1ca4    float64\n",
      "a926bc966f178fc5d507a569a5bfc3d7    float64\n",
      "a519ce042e8748570d3a91cfca16a747    float64\n",
      "dtypes: float64(10)"
     ]
    }
   ],
   "source": [
    "df.info()"
   ]
  },
  {
   "cell_type": "markdown",
   "metadata": {},
   "source": [
    "## Time the querying of data"
   ]
  },
  {
   "cell_type": "code",
   "execution_count": 69,
   "metadata": {
    "collapsed": true
   },
   "outputs": [],
   "source": [
    "head_str = \"2016-01-01 00:00:00\"\n",
    "head = pd.Timestamp(head_str)\n",
    "tpe = 'gas'"
   ]
  },
  {
   "cell_type": "markdown",
   "metadata": {},
   "source": [
    "#### Influxdb"
   ]
  },
  {
   "cell_type": "code",
   "execution_count": 70,
   "metadata": {
    "collapsed": false
   },
   "outputs": [
    {
     "name": "stdout",
     "output_type": "stream",
     "text": [
      "1 loop, best of 3: 22.5 s per loop\n"
     ]
    }
   ],
   "source": [
    "%%timeit\n",
    "df = indbclient.query(\"SELECT * from {} where time > '{}'\".format(tpe, head_str), database='opengrid')[tpe]"
   ]
  },
  {
   "cell_type": "code",
   "execution_count": 71,
   "metadata": {
    "collapsed": false
   },
   "outputs": [
    {
     "name": "stdout",
     "output_type": "stream",
     "text": [
      "<class 'pandas.core.frame.DataFrame'>\n",
      "DatetimeIndex: 1220930 entries, 2016-01-01 00:02:49+00:00 to 2016-06-05 19:28:14+00:00\n",
      "Data columns (total 13 columns):\n",
      "1e1e43f5edb4d5e43ab721c391410cde    162266 non-null float64\n",
      "212ce724e124fbde0fb649396375d099    184086 non-null float64\n",
      "29259ec6ef1a8dd2a2af711e86c765aa    9158 non-null float64\n",
      "2e2e42c92da420eba8fb9aeea78376fc    6 non-null float64\n",
      "313b78fec4f845be91c328ee2f92c6d4    191608 non-null float64\n",
      "4fed53d0c00bbffc26b23366441578f7    260924 non-null float64\n",
      "62597ad3e7b8a543db2a574bf5d4685b    8336 non-null float64\n",
      "a5c7faf24bf77ccb13f59e5d87731524    63880 non-null float64\n",
      "a6028457292f1866b468b63adcc82ee3    190994 non-null float64\n",
      "ba14f92064072f9783baf27f45a147b4    73392 non-null float64\n",
      "d23028c01bea77170d8d8ee6254a5a2c    9570 non-null float64\n",
      "d4b28740c7ee7a98f94a4d23d794af79    7396 non-null float64\n",
      "d5a747b86224834f745f4c9775d70241    102464 non-null float64\n",
      "dtypes: float64(13)"
     ]
    }
   ],
   "source": [
    "df = indbclient.query(\"SELECT * from {} where time > '{}'\".format(tpe, head_str), database='opengrid')[tpe]\n",
    "df.info()"
   ]
  },
  {
   "cell_type": "markdown",
   "metadata": {},
   "source": [
    "#### tmpo"
   ]
  },
  {
   "cell_type": "code",
   "execution_count": 72,
   "metadata": {
    "collapsed": false
   },
   "outputs": [
    {
     "name": "stdout",
     "output_type": "stream",
     "text": [
      "1 loop, best of 3: 13.2 s per loop\n"
     ]
    }
   ],
   "source": [
    "%%timeit\n",
    "df = hp.get_data(sensortype=tpe, head=head, diff=False, resample='raw')"
   ]
  },
  {
   "cell_type": "code",
   "execution_count": 73,
   "metadata": {
    "collapsed": false
   },
   "outputs": [
    {
     "name": "stdout",
     "output_type": "stream",
     "text": [
      "<class 'pandas.core.frame.DataFrame'>\n",
      "DatetimeIndex: 610465 entries, 2016-01-01 00:02:49+00:00 to 2016-06-05 19:28:14+00:00\n",
      "Data columns (total 20 columns):\n",
      "a6028457292f1866b468b63adcc82ee3    95497 non-null float64\n",
      "29ba25498c657eda0cdd34bf22d3f9e4    0 non-null float64\n",
      "313b78fec4f845be91c328ee2f92c6d4    95804 non-null float64\n",
      "051a928dd04ca55e0411bd6f07e05c04    0 non-null float64\n",
      "d4b28740c7ee7a98f94a4d23d794af79    3698 non-null float64\n",
      "4fed53d0c00bbffc26b23366441578f7    130462 non-null float64\n",
      "1e1e43f5edb4d5e43ab721c391410cde    81133 non-null float64\n",
      "185ce03278a9ad44c6cab22869d26e11    0 non-null float64\n",
      "0a556d75eeb1b5783d7ebfab2e309cb7    0 non-null float64\n",
      "d5a747b86224834f745f4c9775d70241    51232 non-null float64\n",
      "3d75bed61ffb84766a84c107921e32b0    0 non-null float64\n",
      "1fd6e92d38ccc7ea87793119b7888eec    0 non-null float64\n",
      "ba14f92064072f9783baf27f45a147b4    36696 non-null float64\n",
      "212ce724e124fbde0fb649396375d099    92043 non-null float64\n",
      "a5c7faf24bf77ccb13f59e5d87731524    31940 non-null float64\n",
      "2e2e42c92da420eba8fb9aeea78376fc    3 non-null float64\n",
      "62597ad3e7b8a543db2a574bf5d4685b    4168 non-null float64\n",
      "33e3e6e333de61d67a40e564baad101b    0 non-null float64\n",
      "d23028c01bea77170d8d8ee6254a5a2c    4785 non-null float64\n",
      "29259ec6ef1a8dd2a2af711e86c765aa    4579 non-null float64\n",
      "dtypes: float64(20)"
     ]
    }
   ],
   "source": [
    "df = hp.get_data(sensortype=tpe, head=head, diff=False, resample='raw')\n",
    "df.info()"
   ]
  },
  {
   "cell_type": "markdown",
   "metadata": {},
   "source": [
    "### Conclusion \n",
    "tmpo seems MORE efficient for large queries!!"
   ]
  },
  {
   "cell_type": "code",
   "execution_count": null,
   "metadata": {
    "collapsed": true
   },
   "outputs": [],
   "source": []
  }
 ],
 "metadata": {
  "kernelspec": {
   "display_name": "Python 2",
   "language": "python",
   "name": "python2"
  },
  "language_info": {
   "codemirror_mode": {
    "name": "ipython",
    "version": 2
   },
   "file_extension": ".py",
   "mimetype": "text/x-python",
   "name": "python",
   "nbconvert_exporter": "python",
   "pygments_lexer": "ipython2",
   "version": "2.7.6"
  }
 },
 "nbformat": 4,
 "nbformat_minor": 0
}
