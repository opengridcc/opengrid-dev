{
 "cells": [
  {
   "cell_type": "code",
   "execution_count": null,
   "metadata": {
    "deletable": true,
    "editable": true
   },
   "outputs": [],
   "source": [
    "# opengrid imports\n",
    "from opengrid_dev.library import misc, houseprint, caching\n",
    "from opengrid_dev.library.analysis import DailyAgg\n",
    "from opengrid_dev import config\n",
    "from opengrid_dev.library.slack import Slack\n",
    "from opengrid_dev.library import alerts\n",
    "c=config.Config()\n",
    "\n",
    "# other imports\n",
    "import pandas as pd\n",
    "import json\n",
    "import charts\n",
    "import numpy as np\n",
    "import os\n",
    "import datetime as dt\n",
    "import pytz\n",
    "BXL = pytz.timezone('Europe/Brussels')\n",
    "\n",
    "\n",
    "# configuration for the plots\n",
    "DEV = c.get('env', 'type') == 'dev' # DEV is True if we are in development environment, False if on the droplet\n",
    "print(\"Environment configured for development: {}\".format(DEV))\n",
    "if not DEV:\n",
    "    # production environment: don't try to display plots\n",
    "    import matplotlib\n",
    "    matplotlib.use('Agg')\n",
    "import matplotlib.pyplot as plt\n",
    "from matplotlib.dates import MinuteLocator, HourLocator, DateFormatter, AutoDateLocator, num2date\n",
    "\n",
    "if DEV:\n",
    "    if c.get('env', 'plots') == 'inline':\n",
    "        %matplotlib inline\n",
    "    else:\n",
    "        %matplotlib qt\n",
    "else:\n",
    "    pass # don't try to render plots\n",
    "plt.rcParams['figure.figsize'] = 12,8"
   ]
  },
  {
   "cell_type": "code",
   "execution_count": null,
   "metadata": {
    "deletable": true,
    "editable": true
   },
   "outputs": [],
   "source": [
    "hp = houseprint.Houseprint()"
   ]
  },
  {
   "cell_type": "code",
   "execution_count": null,
   "metadata": {
    "deletable": true,
    "editable": true
   },
   "outputs": [],
   "source": [
    "sensors = []\n",
    "# Remove some sensors\n",
    "listofsolar = [x.key for x in hp.search_sensors(type='electricity', system='solar')]\n",
    "for key in listofsolar:\n",
    "    sensors.append(hp.find_sensor(key=key))\n",
    "hp.init_tmpo()\n",
    "print(sensors)"
   ]
  },
  {
   "cell_type": "code",
   "execution_count": null,
   "metadata": {
    "deletable": true,
    "editable": true
   },
   "outputs": [],
   "source": [
    "hp.sync_tmpos()"
   ]
  },
  {
   "cell_type": "code",
   "execution_count": null,
   "metadata": {
    "deletable": true,
    "editable": true
   },
   "outputs": [],
   "source": [
    "t = []\n",
    "for s in sensors:\n",
    "    end = pd.Timestamp('now', tz=BXL)\n",
    "    start = end - pd.Timedelta('1 day')\n",
    "    df = s.get_data(head=start, tail=end, unit=\"kW\", resample=\"hour\").sum()\n",
    "    t.append((s.key,df))\n",
    "        \n",
    "df_new = pd.DataFrame(t).rename(columns={0:\"sensor_id\", 1:\"production (kWh)\"}).set_index('sensor_id')"
   ]
  },
  {
   "cell_type": "code",
   "execution_count": null,
   "metadata": {
    "deletable": true,
    "editable": true
   },
   "outputs": [],
   "source": [
    "df_new"
   ]
  },
  {
   "cell_type": "markdown",
   "metadata": {
    "deletable": true,
    "editable": true
   },
   "source": [
    "# Setup NoDataBot slack bot"
   ]
  },
  {
   "cell_type": "code",
   "execution_count": null,
   "metadata": {
    "deletable": true,
    "editable": true
   },
   "outputs": [],
   "source": [
    "slack_url = c.get('Slack', 'webhook')\n",
    "username = 'NoSolarProdBot'\n",
    "channel = \"junk\" # we don't want to clutter up everything\n",
    "emoji = ':warning:'\n",
    "title = 'No solar production'\n",
    "description = 'We have not found solar production in the last 24 hours'\n",
    "\n",
    "slack = Slack(url=slack_url, username=username, channel=channel, emoji=emoji)"
   ]
  },
  {
   "cell_type": "markdown",
   "metadata": {
    "deletable": true,
    "editable": true
   },
   "source": [
    "# Create the alerts and send"
   ]
  },
  {
   "cell_type": "code",
   "execution_count": null,
   "metadata": {
    "deletable": true,
    "editable": true
   },
   "outputs": [],
   "source": [
    "alerts.create_alerts(df_new, hp, 'no_solar_production', slack, title, description, column='production (kWh)', comparison='lower')"
   ]
  },
  {
   "cell_type": "code",
   "execution_count": null,
   "metadata": {
    "deletable": true,
    "editable": true
   },
   "outputs": [],
   "source": []
  }
 ],
 "metadata": {
  "kernelspec": {
   "display_name": "Python 3",
   "language": "python",
   "name": "python3"
  },
  "language_info": {
   "codemirror_mode": {
    "name": "ipython",
    "version": 3
   },
   "file_extension": ".py",
   "mimetype": "text/x-python",
   "name": "python",
   "nbconvert_exporter": "python",
   "pygments_lexer": "ipython3",
   "version": "3.5.2"
  }
 },
 "nbformat": 4,
 "nbformat_minor": 0
}
