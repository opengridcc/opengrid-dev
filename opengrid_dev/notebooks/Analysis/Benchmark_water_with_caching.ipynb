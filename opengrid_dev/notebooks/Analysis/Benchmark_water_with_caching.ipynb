{
 "cells": [
  {
   "cell_type": "code",
   "execution_count": null,
   "metadata": {},
   "outputs": [],
   "source": [
    "# opengrid imports\n",
    "from opengrid_dev.library import misc, houseprint, caching\n",
    "from opengrid.library.analysis import DailyAgg\n",
    "from opengrid_dev import config\n",
    "c=config.Config()\n",
    "\n",
    "# other imports\n",
    "import pandas as pd\n",
    "import charts\n",
    "import numpy as np\n",
    "import os\n",
    "import datetime as dt\n",
    "import pytz\n",
    "BXL = pytz.timezone('Europe/Brussels')\n",
    "\n",
    "\n",
    "# configuration for the plots\n",
    "DEV = c.get('env', 'type') == 'dev' # DEV is True if we are in development environment, False if on the droplet\n",
    "print(\"Environment configured for development: {}\".format(DEV))\n",
    "if not DEV:\n",
    "    # production environment: don't try to display plots\n",
    "    import matplotlib\n",
    "    matplotlib.use('Agg')\n",
    "import matplotlib.pyplot as plt\n",
    "from matplotlib.dates import MinuteLocator, HourLocator, DateFormatter, AutoDateLocator, num2date\n",
    "\n",
    "if DEV:\n",
    "    if c.get('env', 'plots') == 'inline':\n",
    "        %matplotlib inline\n",
    "    else:\n",
    "        %matplotlib qt\n",
    "else:\n",
    "    pass # don't try to render plots\n",
    "plt.rcParams['figure.figsize'] = 12,8"
   ]
  },
  {
   "cell_type": "code",
   "execution_count": null,
   "metadata": {},
   "outputs": [],
   "source": [
    "hp = houseprint.Houseprint()\n",
    "sensors = hp.get_sensors(sensortype='water') # sensor objects\n",
    "\n",
    "hp.init_tmpo()"
   ]
  },
  {
   "cell_type": "code",
   "execution_count": null,
   "metadata": {
    "scrolled": true
   },
   "outputs": [],
   "source": [
    "hp.sync_tmpos()"
   ]
  },
  {
   "cell_type": "code",
   "execution_count": null,
   "metadata": {},
   "outputs": [],
   "source": [
    "# The first time, this will take a very looong time to get all the detailed data for building the cache\n",
    "# Afterwards, this is quick\n",
    "caching.cache_results(hp=hp, sensors=sensors, resultname='water_mean', AnalysisClass=DailyAgg,  \n",
    "                      agg='sum')"
   ]
  },
  {
   "cell_type": "code",
   "execution_count": null,
   "metadata": {},
   "outputs": [],
   "source": [
    "cache_water = caching.Cache(variable='water_mean')\n",
    "dfday = cache_water.get(sensors=sensors)"
   ]
  },
  {
   "cell_type": "code",
   "execution_count": null,
   "metadata": {},
   "outputs": [],
   "source": [
    "# remove negatives\n",
    "dfday = dfday[dfday>0]\n",
    "dfday = dfday.resample('M', how='sum', label='left' )\n",
    "dfday.info()"
   ]
  },
  {
   "cell_type": "code",
   "execution_count": null,
   "metadata": {},
   "outputs": [],
   "source": [
    "charts.plot(dfday, stock=True, show='inline')"
   ]
  },
  {
   "cell_type": "code",
   "execution_count": null,
   "metadata": {},
   "outputs": [],
   "source": [
    "standby_statistics = dfday.T.describe(percentiles=[0.1,0.5,0.9]).T"
   ]
  },
  {
   "cell_type": "code",
   "execution_count": null,
   "metadata": {},
   "outputs": [],
   "source": [
    "charts.plot(standby_statistics[['10%', '50%', '90%']], stock=True, show='inline')"
   ]
  },
  {
   "cell_type": "markdown",
   "metadata": {},
   "source": [
    "### Percentile approach.  Useful for longer time periods, but tweaking of graph still needed"
   ]
  },
  {
   "cell_type": "code",
   "execution_count": null,
   "metadata": {},
   "outputs": [],
   "source": [
    "# choose a period\n",
    "now = pd.Timestamp('now', tz=BXL)\n",
    "dt_start_of_last_day = pd.Timestamp(dfday.index[-1].date(), tz=BXL)\n",
    "look_back_days = 400\n",
    "dt_start_of_period = dt_start_of_last_day - pd.Timedelta(days=look_back_days-1)\n",
    "dfday_period = dfday.ix[dt_start_of_period:].dropna(axis=1, how='all')\n",
    "df = dfday_period.join(standby_statistics[['10%', '50%', '90%']], how='left')\n",
    "df = df.ix[:-1]"
   ]
  },
  {
   "cell_type": "code",
   "execution_count": null,
   "metadata": {
    "scrolled": true
   },
   "outputs": [],
   "source": [
    "for sensor in dfday_period.columns:\n",
    "    try:\n",
    "        plt.figure(figsize=(10,8))\n",
    "        ax1=plt.subplot()\n",
    "        ax1.plot_date(df.index, df[u'10%'], '-', lw=2, color='g', label=u'10% percentile')\n",
    "        ax1.plot_date(df.index, df[u'50%'], '-', lw=2, color='orange', label=u'50% percentile')\n",
    "        ax1.plot_date(df.index, df[u'90%'], '-', lw=2, color='r', label=u'90% percentile')\n",
    "        ax1.plot_date(df.index, df[sensor], 'rD', ms=7, label='Your water consumption') \n",
    "        ax1.legend(loc='upper center', ncol=4, prop={'size':10})\n",
    "        locs, lables=plt.xticks()\n",
    "        xticks = [x.strftime(format='%b') for x in num2date(locs)]\n",
    "        plt.xticks(locs, xticks, rotation='vertical')\n",
    "        plt.title(hp.find_sensor(sensor).device.key + ' - ' + sensor)\n",
    "        ax1.grid()\n",
    "        ax1.set_ylabel('Liter')\n",
    "\n",
    "    \n",
    "    except Exception as e:\n",
    "        print(e)\n",
    "    else:\n",
    "        plt.savefig(os.path.join(c.get('data', 'folder'), 'figures', 'daily_water_'+sensor+'.png'), dpi=100)\n",
    "        pass\n",
    "    if not DEV:\n",
    "        plt.close()"
   ]
  },
  {
   "cell_type": "code",
   "execution_count": null,
   "metadata": {},
   "outputs": [],
   "source": []
  },
  {
   "cell_type": "code",
   "execution_count": null,
   "metadata": {},
   "outputs": [],
   "source": []
  }
 ],
 "metadata": {
  "kernelspec": {
   "display_name": "Python 3",
   "language": "python",
   "name": "python3"
  },
  "language_info": {
   "codemirror_mode": {
    "name": "ipython",
    "version": 3
   },
   "file_extension": ".py",
   "mimetype": "text/x-python",
   "name": "python",
   "nbconvert_exporter": "python",
   "pygments_lexer": "ipython3",
   "version": "3.5.2"
  }
 },
 "nbformat": 4,
 "nbformat_minor": 1
}
