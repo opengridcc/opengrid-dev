{
 "cells": [
  {
   "cell_type": "markdown",
   "metadata": {},
   "source": [
    "### A simple gas consumption analysis. "
   ]
  },
  {
   "cell_type": "code",
   "execution_count": null,
   "metadata": {
    "collapsed": false
   },
   "outputs": [],
   "source": [
    "import numpy as np\n",
    "import matplotlib.pyplot as plt\n",
    "import pandas as pd\n",
    "\n",
    "from opengrid import config\n",
    "from opengrid.library import houseprint\n",
    "\n",
    "c = config.Config()\n",
    "\n",
    "%matplotlib inline\n",
    "plt.rcParams['figure.figsize']=14,8"
   ]
  },
  {
   "cell_type": "markdown",
   "metadata": {},
   "source": [
    "### We create one big dataframe, the columns are the sensors of type *gas*"
   ]
  },
  {
   "cell_type": "code",
   "execution_count": null,
   "metadata": {
    "collapsed": false
   },
   "outputs": [],
   "source": [
    "hp = houseprint.Houseprint()\n",
    "hp.init_tmpo()"
   ]
  },
  {
   "cell_type": "code",
   "execution_count": null,
   "metadata": {
    "collapsed": false
   },
   "outputs": [],
   "source": [
    "df = hp.get_data(sensortype='gas', unit='kW') \n",
    "df = df[df>0]"
   ]
  },
  {
   "cell_type": "code",
   "execution_count": null,
   "metadata": {
    "collapsed": false,
    "scrolled": false
   },
   "outputs": [],
   "source": [
    "# plot timeseries and load duration for each retained sensor\n",
    "for sensor in df.columns:\n",
    "    plt.figure()\n",
    "    ax1=plt.subplot(121)\n",
    "    plt.plot_date(df.index, df[sensor], '-', label=sensor)\n",
    "    plt.ylabel('kW')\n",
    "    plt.legend()\n",
    "    \n",
    "    ax2=plt.subplot(122)\n",
    "    plt.plot(np.sort(df[sensor])[::-1], label=sensor)\n",
    "    plt.ylabel('kW')\n",
    "    plt.legend()"
   ]
  },
  {
   "cell_type": "code",
   "execution_count": null,
   "metadata": {
    "collapsed": false
   },
   "outputs": [],
   "source": []
  }
 ],
 "metadata": {
  "kernelspec": {
   "display_name": "Python 2",
   "language": "python",
   "name": "python2"
  },
  "language_info": {
   "codemirror_mode": {
    "name": "ipython",
    "version": 2
   },
   "file_extension": ".py",
   "mimetype": "text/x-python",
   "name": "python",
   "nbconvert_exporter": "python",
   "pygments_lexer": "ipython2",
   "version": "2.7.6"
  }
 },
 "nbformat": 4,
 "nbformat_minor": 0
}
