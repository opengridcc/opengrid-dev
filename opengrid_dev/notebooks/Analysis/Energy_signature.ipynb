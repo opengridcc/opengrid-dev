{
 "cells": [
  {
   "cell_type": "markdown",
   "metadata": {},
   "source": [
    "### This script is a port of EnergyID's code that calculates a linear regression on heating data"
   ]
  },
  {
   "cell_type": "markdown",
   "metadata": {},
   "source": [
    "# Imports and setup"
   ]
  },
  {
   "cell_type": "markdown",
   "metadata": {},
   "source": [
    "General imports"
   ]
  },
  {
   "cell_type": "code",
   "execution_count": null,
   "metadata": {
    "collapsed": true
   },
   "outputs": [],
   "source": [
    "import pandas as pd"
   ]
  },
  {
   "cell_type": "markdown",
   "metadata": {},
   "source": [
    "OpenGrid-specific imports"
   ]
  },
  {
   "cell_type": "code",
   "execution_count": null,
   "metadata": {
    "collapsed": false
   },
   "outputs": [],
   "source": [
    "from opengrid_dev.library import houseprint\n",
    "from opengrid_dev import config\n",
    "from opengrid_dev.library import linearregression\n",
    "\n",
    "c = config.Config()"
   ]
  },
  {
   "cell_type": "markdown",
   "metadata": {},
   "source": [
    "Plotting settings"
   ]
  },
  {
   "cell_type": "code",
   "execution_count": null,
   "metadata": {
    "collapsed": false
   },
   "outputs": [],
   "source": [
    "import matplotlib.pyplot as plt\n",
    "%matplotlib inline\n",
    "plt.rcParams['figure.figsize'] = 16,8"
   ]
  },
  {
   "cell_type": "markdown",
   "metadata": {},
   "source": [
    "# Load Data"
   ]
  },
  {
   "cell_type": "markdown",
   "metadata": {},
   "source": [
    "We are going to use gas consumption data and weather data. Because we don't want to overload the weather API, we will only use 1 location (Ukkel).\n",
    "\n",
    "First, let's define the start and end date of our experiment. Let's take 1 year worth of data, starting with last month."
   ]
  },
  {
   "cell_type": "code",
   "execution_count": null,
   "metadata": {
    "collapsed": false
   },
   "outputs": [],
   "source": [
    "# If we want to get consumption for 12 months, we will need 13 months of data\n",
    "end = pd.Timestamp.today().replace(day=2).normalize()\n",
    "start = (end.replace(year=end.year-1) - pd.Timedelta(days=2))\n",
    "\n",
    "start = start.tz_localize('Europe/Brussels')\n",
    "end = end.tz_localize('Europe/Brussels')\n",
    "print(start, end)"
   ]
  },
  {
   "cell_type": "markdown",
   "metadata": {},
   "source": [
    "## Gas Data"
   ]
  },
  {
   "cell_type": "code",
   "execution_count": null,
   "metadata": {
    "collapsed": false,
    "scrolled": false
   },
   "outputs": [],
   "source": [
    "# Load the Houseprint, and sync all data\n",
    "hp = houseprint.Houseprint()\n",
    "#hp = houseprint.load_houseprint_from_file('cache_hp.hp')\n",
    "hp.init_tmpo()\n",
    "#hp.sync_tmpos()"
   ]
  },
  {
   "cell_type": "code",
   "execution_count": null,
   "metadata": {
    "collapsed": false
   },
   "outputs": [],
   "source": [
    "#hp.save('cache_hp.hp')"
   ]
  },
  {
   "cell_type": "code",
   "execution_count": null,
   "metadata": {
    "collapsed": false
   },
   "outputs": [],
   "source": [
    "def gas_data_generator1():\n",
    "    # original monthly data generator, returns wrong data\n",
    "    for gas_sensor in hp.get_sensors(sensortype='gas'):\n",
    "        df = gas_sensor.get_data(head=start, tail=end, unit='kWh', diff=False)\n",
    "        df = df.tz_convert('Europe/Brussels')\n",
    "        df = df.resample('MS')\n",
    "        df = df.diff().dropna()\n",
    "        df = df[df>0]\n",
    "        if df.empty:\n",
    "            continue\n",
    "        yield df\n",
    "        \n",
    "def gas_data_generator2():\n",
    "    # Simple roughly correct monthly data generator\n",
    "    # Roughly-correct means that the gas consumption between two counter values\n",
    "    # right before and right after a month-transition are attributed to the new month.  \n",
    "    # However, it is robust and does not need data beyond the last month\n",
    "    for gas_sensor in hp.get_sensors(sensortype='gas'):\n",
    "        df = gas_sensor.get_data(head=start, tail=end, unit='kWh', diff=False)\n",
    "        df = df.tz_convert('Europe/Brussels')\n",
    "        df = df.resample('MS').last()\n",
    "        df = df.diff().dropna()\n",
    "        df = df[df>0]\n",
    "        if df.empty:\n",
    "            continue\n",
    "        yield df\n",
    "        \n",
    "def gas_data_generator3():\n",
    "    # More complicated but most correct correct monthly data generator\n",
    "    # The difference with the previous is that this generator interpolates\n",
    "    # at month-transitions in order to estimate the exact counter value at 00:00:00\n",
    "    # whereas the previous attributed all gas consumption at month-transitions to the \n",
    "    # new month\n",
    "    # Drawbacks: very slow (due to the two reindex() calls) and if there would be no \n",
    "    # data after the end of the last month or before beginning of first month, \n",
    "    # interpolation can't be made, and the entire last (or first) month has no data\n",
    "    \n",
    "    for gas_sensor in hp.get_sensors(sensortype='gas'):\n",
    "        df = gas_sensor.get_data(head=start, tail=end, unit='kWh', diff=False)\n",
    "        df = df.tz_convert('Europe/Brussels')\n",
    "        newindex = df.resample('MS').first().index\n",
    "        df = df.reindex(df.index.union(newindex))\n",
    "        df = df.interpolate(method='time')\n",
    "        df = df.reindex(newindex)\n",
    "        df = df.diff()\n",
    "        df = df.shift(-1).dropna()\n",
    "        df = df[df>0]\n",
    "        if df.empty:\n",
    "            continue\n",
    "        yield df\n",
    "        \n",
    "def gas_data_generator4():\n",
    "    # Preferred method: as accurate as 3, and faster\n",
    "    # Daily approach, obtain fully correct daily data.\n",
    "    # To be aggregated to monthly or weekly or ...\n",
    "    \n",
    "    for gas_sensor in hp.get_sensors(sensortype='gas'):\n",
    "        df = gas_sensor.get_data(head=start, tail=end, resample='day', unit='kWh', diff=False, tz='Europe/Brussels')\n",
    "        df = df.diff().shift(-1).dropna()\n",
    "        if df.empty:\n",
    "            continue\n",
    "        yield df"
   ]
  },
  {
   "cell_type": "markdown",
   "metadata": {},
   "source": [
    "Let's have a peek"
   ]
  },
  {
   "cell_type": "code",
   "execution_count": null,
   "metadata": {
    "collapsed": true
   },
   "outputs": [],
   "source": [
    "gas_data1 = gas_data_generator1()\n",
    "gas_data2 = gas_data_generator2()\n",
    "gas_data3 = gas_data_generator3()\n",
    "gas_data4 = gas_data_generator4()\n"
   ]
  },
  {
   "cell_type": "code",
   "execution_count": null,
   "metadata": {
    "collapsed": false
   },
   "outputs": [],
   "source": [
    "peek1 = next(gas_data1)\n",
    "peek2 = next(gas_data2)\n",
    "peek3 = next(gas_data3)\n",
    "peek4 = next(gas_data4)\n",
    "\n",
    "plt.figure()\n",
    "plt.plot(peek1, label='1')\n",
    "plt.plot(peek2, label='2')\n",
    "plt.plot(peek3, label='3')\n",
    "plt.plot(peek4.resample('MS').sum(), label='4')\n",
    "plt.legend()"
   ]
  },
  {
   "cell_type": "code",
   "execution_count": null,
   "metadata": {
    "collapsed": false
   },
   "outputs": [],
   "source": [
    "print(peek3 - peek4.resample('MS').sum())\n"
   ]
  },
  {
   "cell_type": "code",
   "execution_count": null,
   "metadata": {
    "collapsed": false
   },
   "outputs": [],
   "source": [
    "%timeit(next(gas_data1))\n",
    "%timeit(next(gas_data2))\n",
    "%timeit(next(gas_data3))\n",
    "%timeit(next(gas_data4))"
   ]
  },
  {
   "cell_type": "markdown",
   "metadata": {},
   "source": [
    "## Weather Data"
   ]
  },
  {
   "cell_type": "markdown",
   "metadata": {},
   "source": [
    "Run this block to download the weather data and save it to a pickle. This is a large request, and you can only do 2 or 3 of these per day before your credit with Forecast.io runs out!\n",
    "\n",
    "TODO: Use the caching library for this."
   ]
  },
  {
   "cell_type": "markdown",
   "metadata": {},
   "source": [
    "To get the data run the cell below"
   ]
  },
  {
   "cell_type": "code",
   "execution_count": null,
   "metadata": {
    "collapsed": false,
    "scrolled": false
   },
   "outputs": [],
   "source": [
    "from opengrid_dev.library import forecastwrapper\n",
    "weather = forecastwrapper.Weather(location='Ukkel, Belgium', start=start, end=end)\n",
    "weather_data = weather.days().resample('MS').sum()"
   ]
  },
  {
   "cell_type": "code",
   "execution_count": null,
   "metadata": {
    "collapsed": false
   },
   "outputs": [],
   "source": [
    "weather_data['heatingDegreeDays16.5'].plot()"
   ]
  },
  {
   "cell_type": "markdown",
   "metadata": {},
   "source": [
    "# Put data together"
   ]
  },
  {
   "cell_type": "markdown",
   "metadata": {},
   "source": [
    "We have defined an OpenGrid analysis as a class that takes a single DataFrame as input, so we'll create that dataframe.\n",
    "\n",
    "I wrote a generator that uses our previously defined generator so you can generate while you generate."
   ]
  },
  {
   "cell_type": "code",
   "execution_count": null,
   "metadata": {
    "collapsed": true
   },
   "outputs": [],
   "source": [
    "def analysis_data_generator():\n",
    "    gas_data = gas_data_generator()\n",
    "    for gas_df in gas_data:\n",
    "        df = pd.concat([gas_df, weather_data['heatingDegreeDays16.5']], axis=1).dropna()\n",
    "        df.columns = ['gas', 'degreedays']\n",
    "        yield df"
   ]
  },
  {
   "cell_type": "markdown",
   "metadata": {},
   "source": [
    "Let's have another peek"
   ]
  },
  {
   "cell_type": "code",
   "execution_count": null,
   "metadata": {
    "collapsed": true
   },
   "outputs": [],
   "source": [
    "analysis_data = analysis_data_generator()"
   ]
  },
  {
   "cell_type": "code",
   "execution_count": null,
   "metadata": {
    "collapsed": false
   },
   "outputs": [],
   "source": [
    "peek = next(analysis_data)\n",
    "fig, ax1 = plt.subplots()\n",
    "ax2 = ax1.twinx()\n",
    "for axis, column, color in zip([ax1, ax2], peek.columns, ['b', 'r']):\n",
    "    axis.plot_date(peek.index, peek[column], '-', color=color, label=column)\n",
    "plt.legend()"
   ]
  },
  {
   "cell_type": "markdown",
   "metadata": {
    "collapsed": true
   },
   "source": [
    "# Run Regression Analysis"
   ]
  },
  {
   "cell_type": "code",
   "execution_count": null,
   "metadata": {
    "collapsed": false,
    "scrolled": false
   },
   "outputs": [],
   "source": [
    "analysis_data = analysis_data_generator()\n",
    "for data in analysis_data:    \n",
    "    try:\n",
    "        analysis = linearregression.LinearRegression(independent=data.degreedays, dependent=data.gas)\n",
    "    except ValueError as e:\n",
    "        print(e)\n",
    "\n",
    "    fig = analysis.plot()\n",
    "    fig.show()"
   ]
  },
  {
   "cell_type": "code",
   "execution_count": null,
   "metadata": {
    "collapsed": false,
    "scrolled": false
   },
   "outputs": [],
   "source": [
    "analysis_data = analysis_data_generator()\n",
    "for data in analysis_data:\n",
    "    try:\n",
    "        analysis = linearregression.LinearRegression3(independent=data.degreedays, dependent=data.gas,\n",
    "                                                      breakpoint=60, percentage=0.5)\n",
    "    except ValueError as e:\n",
    "        print(e)\n",
    "    fig = analysis.plot()\n",
    "    fig.show()"
   ]
  },
  {
   "cell_type": "code",
   "execution_count": null,
   "metadata": {
    "collapsed": true
   },
   "outputs": [],
   "source": []
  }
 ],
 "metadata": {
  "kernelspec": {
   "display_name": "Python 3",
   "language": "python",
   "name": "python3"
  },
  "language_info": {
   "codemirror_mode": {
    "name": "ipython",
    "version": 3
   },
   "file_extension": ".py",
   "mimetype": "text/x-python",
   "name": "python",
   "nbconvert_exporter": "python",
   "pygments_lexer": "ipython3",
   "version": "3.5.2"
  }
 },
 "nbformat": 4,
 "nbformat_minor": 0
}
