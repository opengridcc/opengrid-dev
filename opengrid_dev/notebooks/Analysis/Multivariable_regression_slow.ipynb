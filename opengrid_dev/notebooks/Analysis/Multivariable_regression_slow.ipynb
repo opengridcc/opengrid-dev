{
 "cells": [
  {
   "cell_type": "markdown",
   "metadata": {},
   "source": [
    "# Multivariable regression"
   ]
  },
  {
   "cell_type": "markdown",
   "metadata": {},
   "source": [
    "## Imports and setup"
   ]
  },
  {
   "cell_type": "code",
   "execution_count": null,
   "metadata": {},
   "outputs": [],
   "source": [
    "import os\n",
    "import pandas as pd\n",
    "\n",
    "from opengrid.library import houseprint, regression\n",
    "from opengrid import config\n",
    "\n",
    "c = config.Config()\n",
    "\n",
    "import matplotlib.pyplot as plt\n",
    "plt.style.use('ggplot')\n",
    "%matplotlib inline\n",
    "plt.rcParams['figure.figsize'] = 16,8"
   ]
  },
  {
   "cell_type": "markdown",
   "metadata": {},
   "source": [
    "## Load Data"
   ]
  },
  {
   "cell_type": "markdown",
   "metadata": {},
   "source": [
    "We are going to use gas consumption data and weather data. Because we don't want to overload the weather API, we will only use 1 location (Ukkel).\n",
    "\n",
    "First, let's define the start and end date of the identification data.  That is the data to be used to find the model.  Later, we will use the model to predict."
   ]
  },
  {
   "cell_type": "code",
   "execution_count": null,
   "metadata": {},
   "outputs": [],
   "source": [
    "start = pd.Timestamp('2015-01-01', tz='Europe/Brussels')\n",
    "end = pd.Timestamp('now', tz='Europe/Brussels')\n",
    "end_model = pd.Timestamp('2016-12-31', tz='Europe/Brussels') #last day of the data period for the model"
   ]
  },
  {
   "cell_type": "markdown",
   "metadata": {},
   "source": [
    "## Energy data"
   ]
  },
  {
   "cell_type": "code",
   "execution_count": null,
   "metadata": {},
   "outputs": [],
   "source": [
    "try:\n",
    "    hp_filename = os.path.join(c.get('data', 'folder'), 'hp_anonymous.pkl')\n",
    "    hp = houseprint.load_houseprint_from_file(hp_filename)\n",
    "    print(\"Houseprint loaded from {}\".format(hp_filename))\n",
    "except Exception as e:\n",
    "    print(e)\n",
    "    print(\"Because of this error we try to build the houseprint from source\")\n",
    "    hp = houseprint.Houseprint()\n",
    "hp.init_tmpo()"
   ]
  },
  {
   "cell_type": "code",
   "execution_count": null,
   "metadata": {},
   "outputs": [],
   "source": [
    "hp.sync_tmpos()"
   ]
  },
  {
   "cell_type": "code",
   "execution_count": null,
   "metadata": {},
   "outputs": [],
   "source": [
    "def gas_data_generator():\n",
    "    # Daily approach, obtain fully correct daily data.\n",
    "    # To be aggregated to monthly or weekly or ...\n",
    "    \n",
    "    for gas_sensor in hp.get_sensors(sensortype='gas'):\n",
    "        df = gas_sensor.get_data(head=start-pd.Timedelta(days=1), \n",
    "                                 tail=end+pd.Timedelta(days=1), \n",
    "                                 resample='day', \n",
    "                                 unit='kWh', \n",
    "                                 diff=False, \n",
    "                                 tz='Europe/Brussels')\n",
    "        df = df.diff().shift(-1).dropna()\n",
    "        if df.empty:\n",
    "            continue\n",
    "        yield df\n",
    "\n",
    "def elec_data_generator():\n",
    "    # Preferred method: as accurate as 3, and faster\n",
    "    # Daily approach, obtain fully correct daily data.\n",
    "    # To be aggregated to monthly or weekly or ...\n",
    "    \n",
    "    for sensor in hp.get_sensors(sensortype='electricity'):\n",
    "        df = sensor.get_data(head=start-pd.Timedelta(days=1), \n",
    "                             tail=end+pd.Timedelta(days=1), \n",
    "                             resample='day', \n",
    "                             unit='kWh', \n",
    "                             diff=False, \n",
    "                             tz='Europe/Brussels')\n",
    "        df = df.diff().shift(-1).dropna()\n",
    "        if df.empty:\n",
    "            continue\n",
    "        yield df"
   ]
  },
  {
   "cell_type": "markdown",
   "metadata": {},
   "source": [
    "Let's have a peek"
   ]
  },
  {
   "cell_type": "code",
   "execution_count": null,
   "metadata": {},
   "outputs": [],
   "source": [
    "gas_data = gas_data_generator()\n",
    "elec_data = elec_data_generator()"
   ]
  },
  {
   "cell_type": "code",
   "execution_count": null,
   "metadata": {},
   "outputs": [],
   "source": [
    "peek = next(gas_data)\n",
    "peek.plot()"
   ]
  },
  {
   "cell_type": "raw",
   "metadata": {},
   "source": [
    "peek = next(elec_data)\n",
    "peek.plot()"
   ]
  },
  {
   "cell_type": "markdown",
   "metadata": {},
   "source": [
    "## Weather Data"
   ]
  },
  {
   "cell_type": "markdown",
   "metadata": {},
   "source": [
    "Run this block to download the weather data and save it to a pickle. This is a large request, and you can only do 2 or 3 of these per day before your credit with Forecast.io runs out!"
   ]
  },
  {
   "cell_type": "markdown",
   "metadata": {},
   "source": [
    "To get the data run the cell below"
   ]
  },
  {
   "cell_type": "code",
   "execution_count": null,
   "metadata": {},
   "outputs": [],
   "source": [
    "from opengrid.library import forecastwrapper\n",
    "weather = forecastwrapper.Weather(location=(50.8024, 4.3407), start=start, end=end - pd.Timedelta(days=1))\n",
    "irradiances=[\n",
    "    (0, 90), # north vertical\n",
    "    (90, 90), # east vertical\n",
    "    (180, 90), # south vertical\n",
    "    (270, 90), # west vertical\n",
    "]\n",
    "orientations = [0, 90, 180, 270]\n",
    "weather_data = weather.days(irradiances=irradiances, \n",
    "                            wind_orients=orientations, \n",
    "                            heating_base_temperatures=[0, 6, 8 ,10, 12, 14, 16, 18]).dropna(axis=1)\n",
    "weather_data.drop(['icon', 'summary', 'moonPhase', 'windBearing', 'temperatureMaxTime', 'temperatureMinTime',\n",
    "                   'apparentTemperatureMaxTime', 'apparentTemperatureMinTime', 'uvIndexTime', \n",
    "                   'sunsetTime', 'sunriseTime'], \n",
    "                  axis=1, inplace=True)\n",
    "weather_data = weather_data.applymap(float)"
   ]
  },
  {
   "cell_type": "code",
   "execution_count": null,
   "metadata": {},
   "outputs": [],
   "source": [
    "weather_data.head()"
   ]
  },
  {
   "cell_type": "code",
   "execution_count": null,
   "metadata": {},
   "outputs": [],
   "source": [
    "weather_data.columns"
   ]
  },
  {
   "cell_type": "markdown",
   "metadata": {},
   "source": [
    "# Put data together"
   ]
  },
  {
   "cell_type": "markdown",
   "metadata": {},
   "source": [
    "I wrote a generator that uses our previously defined generator so you can generate while you generate."
   ]
  },
  {
   "cell_type": "code",
   "execution_count": null,
   "metadata": {},
   "outputs": [],
   "source": [
    "def analysis_data_generator():\n",
    "    gas_data = gas_data_generator()\n",
    "    for gas_df in gas_data:\n",
    "        sensorid = gas_df.name\n",
    "        gas_df.name='gas'\n",
    "        df = pd.concat([gas_df, weather_data], axis=1).dropna()\n",
    "        df = df.tz_convert('Europe/Brussels')\n",
    "        yield sensorid, df\n",
    "        \n",
    "def analysis_data_generator_elec():\n",
    "    elec_data = elec_data_generator()\n",
    "    for elec_df in elec_data:\n",
    "        sensorid = elec_df.name\n",
    "        elec_df.name='elec'\n",
    "        df = pd.concat([elec_df, weather_data], axis=1).dropna()\n",
    "        df = df.tz_convert('Europe/Brussels')\n",
    "        yield sensorid, df"
   ]
  },
  {
   "cell_type": "markdown",
   "metadata": {},
   "source": [
    "Let's have another peek"
   ]
  },
  {
   "cell_type": "code",
   "execution_count": null,
   "metadata": {},
   "outputs": [],
   "source": [
    "analysis_data = analysis_data_generator()"
   ]
  },
  {
   "cell_type": "raw",
   "metadata": {},
   "source": [
    "peek = next(analysis_data)\n",
    "peek = peek.resample(rule='MS').sum()\n",
    "\n",
    "fig, ax1 = plt.subplots()\n",
    "ax2 = ax1.twinx()\n",
    "ax1.plot_date(peek.index, peek['gas'], '-', color='grey', lw=8, label='gas')\n",
    "for column in peek.columns[1:]:\n",
    "    if 'heatingDegreeDays' in column:\n",
    "        ax2.plot_date(peek.index, peek[column], '-', label=column)\n",
    "plt.legend()"
   ]
  },
  {
   "cell_type": "markdown",
   "metadata": {},
   "source": [
    "# Run Regression Analysis for gas\n",
    "\n",
    "\n",
    "We run the analysis on monthly and weekly basis."
   ]
  },
  {
   "cell_type": "code",
   "execution_count": null,
   "metadata": {},
   "outputs": [],
   "source": [
    "analysis_data = analysis_data_generator()\n",
    "mrs_month = []\n",
    "mrs_month_cv = []\n",
    "mrs_week = []\n",
    "for sensorid, data in analysis_data: \n",
    "    \n",
    "    df = data.resample(rule='MS').sum()\n",
    "    if len(df) < 2:\n",
    "        continue\n",
    "    \n",
    "    # monthly model, statistical validation\n",
    "    mrs_month.append(regression.MVLinReg(df.ix[:end_model], 'gas', p_max=0.03)) \n",
    "    figures = mrs_month[-1].plot(df=df)\n",
    "    \n",
    "    figures[0].savefig(os.path.join(c.get('data', 'folder'), 'figures', 'multivar_model_'+sensorid+'.png'), dpi=100)\n",
    "    figures[1].savefig(os.path.join(c.get('data', 'folder'), 'figures', 'multivar_results_'+sensorid+'.png'), dpi=100)\n",
    "    \n",
    "\n",
    "    # weekly model, statistical validation\n",
    "    df = data.resample(rule='W').sum()\n",
    "    mrs_week.append(regression.MVLinReg(df.ix[:end_model], 'gas', p_max=0.02))\n",
    "    if len(df.ix[end_model:]) > 0:\n",
    "        figures = mrs_week[-1].plot(model=False, bar_chart=True, df=df.ix[end_model:])\n",
    "        figures[0].savefig(os.path.join(c.get('data', 'folder'), 'figures', 'multivar_prediction_weekly_'+sensorid+'.png'), dpi=100)\n",
    "    \n",
    "    \n",
    "    \n",
    "    "
   ]
  },
  {
   "cell_type": "code",
   "execution_count": null,
   "metadata": {},
   "outputs": [],
   "source": [
    "data"
   ]
  },
  {
   "cell_type": "markdown",
   "metadata": {},
   "source": [
    "# Run Regression Analysis for electricity\n",
    "\n",
    "\n",
    "We run the analysis on monthly and weekly basis."
   ]
  },
  {
   "cell_type": "code",
   "execution_count": null,
   "metadata": {},
   "outputs": [],
   "source": [
    "analysis_data = analysis_data_generator_elec()\n",
    "mrs_month_elec = []\n",
    "mrs_month_elec_cv = []\n",
    "mrs_week_elec = []"
   ]
  },
  {
   "cell_type": "code",
   "execution_count": null,
   "metadata": {},
   "outputs": [],
   "source": [
    "for sensorid, data in analysis_data: \n",
    "    \n",
    "    df = data.resample(rule='MS').sum()\n",
    "    if len(df) < 2:\n",
    "        continue\n",
    "    \n",
    "    # monthly model, statistical validation\n",
    "    mrs_month_elec.append(regression.MVLinReg(df.ix[:end_model], 'elec', p_max=0.03)) \n",
    "    figures = mrs_month_elec[-1].plot(df=df)\n",
    "    figures[1].savefig(os.path.join(c.get('data', 'folder'), 'figures', 'multivar_results_'+sensorid+'.png'), dpi=100)"
   ]
  },
  {
   "cell_type": "code",
   "execution_count": null,
   "metadata": {},
   "outputs": [],
   "source": [
    "    break\n",
    "    # weekly model, statistical validation\n",
    "    df = data.resample(rule='W').sum()\n",
    "    mrs_week.append(regression.MVLinReg(df.ix[:end_model], 'elec', p_max=0.02))\n",
    "    if len(df.ix[end_model:]) > 0:\n",
    "        mrs_week[-1].plot(model=False, bar_chart=True, df=df.ix[end_model:])\n",
    "    "
   ]
  },
  {
   "cell_type": "raw",
   "metadata": {},
   "source": [
    "for i, fit in enumerate(mrs_month[3].list_of_fits):\n",
    "    print('{}: {}'.format(fit.model.formula, mrs_month[3].list_of_cverrors[i]))"
   ]
  },
  {
   "cell_type": "raw",
   "metadata": {},
   "source": [
    "print(mrs_month[3].list_of_fits[-1].summary())"
   ]
  },
  {
   "cell_type": "code",
   "execution_count": null,
   "metadata": {},
   "outputs": [],
   "source": [
    "data.info()"
   ]
  },
  {
   "cell_type": "code",
   "execution_count": null,
   "metadata": {},
   "outputs": [],
   "source": [
    "pd.Timestamp(pd.Timestamp('now', tz='Europe/Brussels').date(), tz='Europe/Brussels')"
   ]
  },
  {
   "cell_type": "code",
   "execution_count": null,
   "metadata": {},
   "outputs": [],
   "source": []
  }
 ],
 "metadata": {
  "kernelspec": {
   "display_name": "Python 3",
   "language": "python",
   "name": "python3"
  },
  "language_info": {
   "codemirror_mode": {
    "name": "ipython",
    "version": 3
   },
   "file_extension": ".py",
   "mimetype": "text/x-python",
   "name": "python",
   "nbconvert_exporter": "python",
   "pygments_lexer": "ipython3",
   "version": "3.5.2"
  }
 },
 "nbformat": 4,
 "nbformat_minor": 0
}
