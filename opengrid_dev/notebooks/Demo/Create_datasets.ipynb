{
 "cells": [
  {
   "cell_type": "markdown",
   "metadata": {
    "deletable": true,
    "editable": true
   },
   "source": [
    "# General Imports\n"
   ]
  },
  {
   "cell_type": "code",
   "execution_count": null,
   "metadata": {
    "collapsed": false,
    "deletable": true,
    "editable": true
   },
   "outputs": [],
   "source": [
    "import os\n",
    "import inspect\n",
    "import sys\n",
    "import pandas as pd\n",
    "import charts\n",
    "from opengrid import config\n",
    "c = config.Config()\n",
    "\n",
    "from opengrid.library import misc, houseprint\n",
    "\n",
    "import matplotlib.pyplot as plt\n",
    "%matplotlib inline\n",
    "plt.rcParams['figure.figsize'] = 16,8"
   ]
  },
  {
   "cell_type": "markdown",
   "metadata": {
    "deletable": true,
    "editable": true
   },
   "source": [
    "## Houseprint"
   ]
  },
  {
   "cell_type": "code",
   "execution_count": null,
   "metadata": {
    "collapsed": false,
    "deletable": true,
    "editable": true
   },
   "outputs": [],
   "source": [
    "hp = houseprint.Houseprint()\n",
    "hp.init_tmpo()\n",
    "hp._tmpos.debug = False\n",
    "hp.sync_tmpos()"
   ]
  },
  {
   "cell_type": "markdown",
   "metadata": {},
   "source": [
    "## Create dataframes with minute data for a single year, by sensortype"
   ]
  },
  {
   "cell_type": "code",
   "execution_count": null,
   "metadata": {
    "collapsed": false,
    "deletable": true,
    "editable": true
   },
   "outputs": [],
   "source": [
    "for sensortype in ['water', 'gas', 'electricity']:\n",
    "    print('Processing {}'.format(sensortype))\n",
    "    for y in ['2015', '2016', '2017']:\n",
    "        print('year {}'.format(y))\n",
    "        head = pd.Timestamp('{}0101'.format(y), tz='Europe/Brussels')\n",
    "        tail = pd.Timestamp('{}0101'.format(int(y)+1), tz='Europe/Brussels')\n",
    "        df = hp.get_data(sensortype=sensortype, head=head, tail=tail, diff=True, resample='min')\n",
    "        df.rename(columns=lambda x: x[:4], inplace=True)\n",
    "        path = os.path.join(c.get('data', 'folder'), '{}_{}_min.pickle'.format(sensortype, y))\n",
    "        df.to_pickle(path)"
   ]
  },
  {
   "cell_type": "markdown",
   "metadata": {
    "collapsed": false,
    "deletable": true,
    "editable": true
   },
   "source": [
    "## Create dataframes with hourly, daily and monthly data"
   ]
  },
  {
   "cell_type": "code",
   "execution_count": null,
   "metadata": {
    "collapsed": false
   },
   "outputs": [],
   "source": [
    "for sensortype in ['water', 'gas', 'electricity']:\n",
    "    print('Processing {}'.format(sensortype))\n",
    "    for y in ['2015', '2016', '2017']:\n",
    "        print('year {}'.format(y))\n",
    "        path_min = os.path.join(c.get('data', 'folder'), '{}_{}_min.pickle'.format(sensortype, y))\n",
    "        df = pd.read_pickle(path_min)\n",
    "        # hourly: mean values\n",
    "        df_hour = df.resample(rule='H').mean()\n",
    "        path_hour = os.path.join(c.get('data', 'folder'), '{}_{}_hour.pickle'.format(sensortype, y))\n",
    "        df_hour.to_pickle(path_hour)\n",
    "        # daily: totals in  liter/day, kWh/day or kWh/day\n",
    "        #df_day = df_hour.resample(rule='D').mean()\n",
    "        #path_day = os.path.join(c.get('data', 'folder'), '{}_{}_day.pickle'.format(sensortype, y))\n",
    "        #df_day.to_pickle(path_day)"
   ]
  },
  {
   "cell_type": "code",
   "execution_count": null,
   "metadata": {
    "collapsed": false
   },
   "outputs": [],
   "source": [
    "misc.unit_conversion_factor(source='liter/min', target='m**3/hour')"
   ]
  }
 ],
 "metadata": {
  "kernelspec": {
   "display_name": "Python 3",
   "language": "python",
   "name": "python3"
  },
  "language_info": {
   "codemirror_mode": {
    "name": "ipython",
    "version": 3
   },
   "file_extension": ".py",
   "mimetype": "text/x-python",
   "name": "python",
   "nbconvert_exporter": "python",
   "pygments_lexer": "ipython3",
   "version": "3.5.2"
  }
 },
 "nbformat": 4,
 "nbformat_minor": 0
}
