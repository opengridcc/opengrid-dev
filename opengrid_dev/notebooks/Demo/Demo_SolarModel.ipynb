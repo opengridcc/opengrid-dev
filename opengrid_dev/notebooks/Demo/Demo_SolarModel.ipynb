{
 "cells": [
  {
   "cell_type": "markdown",
   "metadata": {},
   "source": [
    "# Solar Model"
   ]
  },
  {
   "cell_type": "code",
   "execution_count": null,
   "metadata": {
    "collapsed": false
   },
   "outputs": [],
   "source": [
    "import sys\n",
    "import os\n",
    "import inspect\n",
    "import datetime as dt\n",
    "\n",
    "from opengrid.library import solarmodel as sm"
   ]
  },
  {
   "cell_type": "code",
   "execution_count": null,
   "metadata": {
    "collapsed": false
   },
   "outputs": [],
   "source": [
    "import matplotlib.pyplot as plt\n",
    "%matplotlib inline\n",
    "plt.rcParams['figure.figsize'] = 16,8"
   ]
  },
  {
   "cell_type": "markdown",
   "metadata": {},
   "source": [
    "## Solar Insolation object"
   ]
  },
  {
   "cell_type": "markdown",
   "metadata": {},
   "source": [
    "The solar insolation object uses a location to lookup longitude, latitude and altitude (via Google)."
   ]
  },
  {
   "cell_type": "code",
   "execution_count": null,
   "metadata": {
    "collapsed": false
   },
   "outputs": [],
   "source": [
    "SI = sm.SolarInsolation('Brussel')\n",
    "print(SI.location.latlng,\n",
    "      SI.elevation)"
   ]
  },
  {
   "cell_type": "markdown",
   "metadata": {},
   "source": [
    "It uses this location to calculate the position of the sun and the mass of the air the sun has to penetrate for a given datetime (in UTC!)\n",
    "\n",
    "The airmass will be 1 when the sun is directly overhead and infinite when the sun has set"
   ]
  },
  {
   "cell_type": "code",
   "execution_count": null,
   "metadata": {
    "collapsed": false
   },
   "outputs": [],
   "source": [
    "date = dt.datetime(year=2015, month=10, day=22, hour=12)\n",
    "print(SI.solarElevation(date), #in radians\n",
    "      SI.airMass(date),\n",
    "     )"
   ]
  },
  {
   "cell_type": "markdown",
   "metadata": {},
   "source": [
    "This airmass, together with the altitude is then used to calculate the direct beam intensity of the sun for that given moment. 10% of that value is added to get the Global Irradiance, both in W/m^2\n",
    "\n",
    "This is the potential solar power which is theoretically available at that location at that moment."
   ]
  },
  {
   "cell_type": "code",
   "execution_count": null,
   "metadata": {
    "collapsed": false
   },
   "outputs": [],
   "source": [
    "print(SI.directIntensity(date),\n",
    "      SI.globalIrradiance(date)\n",
    "     )"
   ]
  },
  {
   "cell_type": "markdown",
   "metadata": {},
   "source": [
    "Use the method SI.df to get a dataframe with hourly global irradiance values between start and end"
   ]
  },
  {
   "cell_type": "code",
   "execution_count": null,
   "metadata": {
    "collapsed": false
   },
   "outputs": [],
   "source": [
    "start = dt.datetime(year = 2015, month = 10, day = 20)\n",
    "end = dt.datetime(year = 2015, month = 10, day = 21)"
   ]
  },
  {
   "cell_type": "code",
   "execution_count": null,
   "metadata": {
    "collapsed": false,
    "scrolled": false
   },
   "outputs": [],
   "source": [
    "df = SI.df(start,end)\n",
    "df.plot()"
   ]
  },
  {
   "cell_type": "markdown",
   "metadata": {},
   "source": [
    "# PV Model"
   ]
  },
  {
   "cell_type": "markdown",
   "metadata": {},
   "source": [
    "The PV Model is an extension to the Insolation Class. It simulates an 'ideal' PV installation (with 100% efficiency), which includes tilt and orientation.\n",
    "\n",
    "This enables us to visualise the effect of wronly tilted or oriented PV installations"
   ]
  },
  {
   "cell_type": "code",
   "execution_count": null,
   "metadata": {
    "collapsed": false
   },
   "outputs": [],
   "source": [
    "PVM1 = sm.PVModel('Brussel')\n",
    "PVM2 = sm.PVModel('Brussel', tilt=15)\n",
    "PVM3 = sm.PVModel('Brussel', orient=250)"
   ]
  },
  {
   "cell_type": "code",
   "execution_count": null,
   "metadata": {
    "collapsed": false
   },
   "outputs": [],
   "source": [
    "df1 = PVM1.df(start,end)\n",
    "df2 = PVM2.df(start,end)\n",
    "df3 = PVM3.df(start,end)"
   ]
  },
  {
   "cell_type": "code",
   "execution_count": null,
   "metadata": {
    "collapsed": false
   },
   "outputs": [],
   "source": [
    "plt.figure()\n",
    "plt.plot_date(df.index, df['insolation'], '-', label='Insolation')\n",
    "plt.plot_date(df1.index, df1['insolation'], '-', label='south oriented, 35 degrees tilt')\n",
    "plt.plot_date(df2.index, df2['insolation'], '-', label='bad tilt')\n",
    "plt.plot_date(df3.index, df3['insolation'], '-', label='bad orientation')\n",
    "plt.legend()"
   ]
  },
  {
   "cell_type": "code",
   "execution_count": null,
   "metadata": {
    "collapsed": true
   },
   "outputs": [],
   "source": []
  }
 ],
 "metadata": {
  "kernelspec": {
   "display_name": "Python 2",
   "language": "python",
   "name": "python2"
  },
  "language_info": {
   "codemirror_mode": {
    "name": "ipython",
    "version": 2
   },
   "file_extension": ".py",
   "mimetype": "text/x-python",
   "name": "python",
   "nbconvert_exporter": "python",
   "pygments_lexer": "ipython2",
   "version": "2.7.6"
  }
 },
 "nbformat": 4,
 "nbformat_minor": 0
}
